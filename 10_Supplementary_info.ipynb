{
 "cells": [
  {
   "cell_type": "code",
   "execution_count": null,
   "id": "f5ebe0af-e23f-4502-8871-273fe8bdadd8",
   "metadata": {
    "tags": []
   },
   "outputs": [],
   "source": [
    "import pandas as pd\n",
    "import numpy as np\n",
    "import matplotlib.pyplot as plt\n",
    "from utils.Plotting import add_subplot_index, save_figure\n",
    "from tqdm import tqdm\n",
    "import json\n",
    "tqdm.pandas()"
   ]
  },
  {
   "cell_type": "code",
   "execution_count": null,
   "id": "573f7281-c23e-4674-902b-8c55bfd5d3ac",
   "metadata": {
    "tags": []
   },
   "outputs": [],
   "source": [
    "figure_folder = \"Supplementary\""
   ]
  },
  {
   "cell_type": "markdown",
   "id": "08a158e0-4c7f-4e42-994c-30d3f441c69f",
   "metadata": {},
   "source": [
    "# Demographics and Comorbidities"
   ]
  },
  {
   "cell_type": "code",
   "execution_count": null,
   "id": "e8b833dc-1fd1-48cf-a53f-cfe678d02f93",
   "metadata": {
    "tags": []
   },
   "outputs": [],
   "source": [
    "# Load the variables\n",
    "with open('./utils/variables.json', 'r') as file:\n",
    "    variables = json.load(file)\n",
    "\n",
    "SCR_feature_space = variables['SCR_feature_space']\n",
    "LAB_feature_space = variables['LAB_feature_space']\n",
    "train_len = variables['train_len']\n",
    "test_len = variables['test_len']\n",
    "start_date = variables['start_date']\n",
    "split_date = variables['split_date']\n",
    "end_date = variables['end_date']\n",
    "print(len(SCR_feature_space), len(LAB_feature_space))\n",
    "print(train_len, test_len)"
   ]
  },
  {
   "cell_type": "code",
   "execution_count": null,
   "id": "a2a0c209-be5c-40ec-b820-857de16e91d2",
   "metadata": {
    "tags": []
   },
   "outputs": [],
   "source": [
    "internal_data = pd.read_csv(\".../DEMO_KUMC.csv\")\n",
    "internal_data[[\"PATID\", \"ONSETS_ENCOUNTERID\"]] = internal_data[[\"PATID\", \"ONSETS_ENCOUNTERID\"]].astype(str)\n",
    "external_test_set = pd.read_csv('.../ext_test.csv')\n",
    "external_test_set[[\"PATID\", \"ONSETS_ENCOUNTERID\"]] = external_test_set[[\"PATID\", \"ONSETS_ENCOUNTERID\"]].astype(str)\n",
    "time_cols = [\"ADMIT_DATE\", \"DISCHARGE_DATE\", \"PREDICTION_POINT\"]\n",
    "\n",
    "# Loop through the columns and convert to datetime\n",
    "for col in time_cols:\n",
    "    internal_data[col] = pd.to_datetime(internal_data[col])\n",
    "    external_test_set[col] = pd.to_datetime(external_test_set[col])\n",
    "    \n",
    "print(len(internal_data), len(external_test_set))"
   ]
  },
  {
   "cell_type": "code",
   "execution_count": null,
   "id": "5252c8b1-7779-4429-baa6-3c2de4fa907a",
   "metadata": {
    "tags": []
   },
   "outputs": [],
   "source": [
    "# read the DX df\n",
    "internal_DX_df = pd.read_csv('/blue/yonghui.wu/hoyinchan/Data/data2022raw/KUMC_ORCALE/raw/AKI_DX.csv', usecols = ['PATID', 'DX', 'DX_DATE\"+PD.DATE_SHIFT\"'])\n",
    "external_DX_df = pd.read_csv('/blue/yonghui.wu/hoyinchan/Data/data2022raw/UPITT/raw/AKI_DX.csv', usecols = ['PATID', 'DX', 'DX_DATE'])"
   ]
  },
  {
   "cell_type": "code",
   "execution_count": null,
   "id": "605a1ad2-8b61-4f36-ba57-4af603ae8f69",
   "metadata": {
    "tags": []
   },
   "outputs": [],
   "source": [
    "# format the dataframe\n",
    "def format_DX_df(DX_df: pd.DataFrame) -> pd.DataFrame:\n",
    "    DX_df.columns = ['PATID', 'DX_DATE', 'DX']\n",
    "    DX_df[['PATID', 'DX']] = DX_df[['PATID', 'DX']].astype(str)\n",
    "    DX_df['DX_DATE'] = pd.to_datetime(DX_df['DX_DATE'], format = 'mixed').dt.date\n",
    "    DX_df.dropna(inplace = True)\n",
    "    return DX_df"
   ]
  },
  {
   "cell_type": "code",
   "execution_count": null,
   "id": "9ddd9a3c-a588-4352-bef6-aa14fd477d2e",
   "metadata": {
    "tags": []
   },
   "outputs": [],
   "source": [
    "internal_DX_df = format_DX_df(internal_DX_df)\n",
    "external_DX_df = format_DX_df(external_DX_df)"
   ]
  },
  {
   "cell_type": "code",
   "execution_count": null,
   "id": "2dd4c1a4-caff-465d-8ab5-da9cf558d549",
   "metadata": {
    "tags": []
   },
   "outputs": [],
   "source": [
    "internal_dataset_DX_df = internal_data.merge(internal_DX_df, on='PATID', how='left')\n",
    "# filter by admission date\n",
    "internal_dataset_DX_df = internal_dataset_DX_df[internal_dataset_DX_df['DX_DATE'] < internal_dataset_DX_df['ADMIT_DATE']]\n",
    "external_dataset_DX_df = external_test_set.merge(external_DX_df, on='PATID', how='left')\n",
    "# filter by admission date\n",
    "external_dataset_DX_df = external_dataset_DX_df[external_dataset_DX_df['DX_DATE'] < external_dataset_DX_df['ADMIT_DATE']]"
   ]
  },
  {
   "cell_type": "code",
   "execution_count": null,
   "id": "c0fe0017-12fc-4c02-b37c-f87ff6b19b5a",
   "metadata": {
    "tags": []
   },
   "outputs": [],
   "source": [
    "def filter_by_DX(dataset_DX_df: pd.DataFrame) -> pd.DataFrame:\n",
    "    # map the DX to disease\n",
    "    dataset_DX_df.loc[:, 'DX_NAME'] = dataset_DX_df['DX'].progress_apply(map_to_disease)\n",
    "    # delete the rows that cannot be mapped to any disease\n",
    "    dataset_DX_df = dataset_DX_df.dropna(subset=['DX_NAME']).reset_index(drop=True)\n",
    "    dataset_DX_df.drop('DX', axis=1, inplace=True)\n",
    "    return dataset_DX_df"
   ]
  },
  {
   "cell_type": "code",
   "execution_count": null,
   "id": "a658f01c-ca42-40c6-ade5-3efc501969e3",
   "metadata": {
    "tags": []
   },
   "outputs": [],
   "source": [
    "with open('./utils/DX_codes_combined.json', 'r') as json_file:\n",
    "    DX_codes_combined = json.load(json_file)"
   ]
  },
  {
   "cell_type": "code",
   "execution_count": null,
   "id": "307de3ea-25c1-40c7-a9de-a8975db3e027",
   "metadata": {
    "tags": []
   },
   "outputs": [],
   "source": [
    "def map_to_disease(DX):\n",
    "    # DX_codes here is a global variable\n",
    "    for disease, codes in DX_codes_combined.items():\n",
    "        if any(DX.startswith(code) for code in codes):\n",
    "            return disease\n",
    "    return None"
   ]
  },
  {
   "cell_type": "code",
   "execution_count": null,
   "id": "32572007-8574-4aff-a5c6-ddd2e58716b1",
   "metadata": {
    "tags": []
   },
   "outputs": [],
   "source": [
    "internal_dataset_DX_df = filter_by_DX(internal_dataset_DX_df)\n",
    "external_dataset_DX_df = filter_by_DX(external_dataset_DX_df)"
   ]
  },
  {
   "cell_type": "code",
   "execution_count": null,
   "id": "c26cf1b9-e45d-4b93-b271-50874b52992f",
   "metadata": {
    "tags": []
   },
   "outputs": [],
   "source": [
    "def pivot_DX_df(dataset_DX_df: pd.DataFrame) -> pd.DataFrame:\n",
    "    # pivot onset_DX_df to get the diagnosis feature, values as binary, index as pat_id_cols and columns as DX\n",
    "    DX_feature_pivot = dataset_DX_df.pivot_table(index=[\"PATID\", \"ONSETS_ENCOUNTERID\"], \n",
    "                                                 columns='DX_NAME', aggfunc='size', fill_value=0)\n",
    "    # Convert the pivot table to binary (1 if the patient had the diagnose, 0 otherwise)\n",
    "    DX_feature_pivot = (DX_feature_pivot > 0).astype(int)\n",
    "    # Reset the index to make it a regular dataframe\n",
    "    DX_feature_pivot.reset_index(inplace=True)\n",
    "    return DX_feature_pivot"
   ]
  },
  {
   "cell_type": "code",
   "execution_count": null,
   "id": "662d01d6-5025-46e8-8be7-b60eaa7ad89f",
   "metadata": {
    "tags": []
   },
   "outputs": [],
   "source": [
    "internal_DX_feature_pivot = pivot_DX_df(internal_dataset_DX_df)\n",
    "external_DX_feature_pivot = pivot_DX_df(external_dataset_DX_df)"
   ]
  },
  {
   "cell_type": "code",
   "execution_count": null,
   "id": "4fb5fe92-15c4-410f-bb3b-3e759e9a2eca",
   "metadata": {
    "tags": []
   },
   "outputs": [],
   "source": [
    "# Get common columns\n",
    "DX_common_cols = internal_DX_feature_pivot.columns.intersection(external_DX_feature_pivot.columns)\n",
    "internal_DX_feature_pivot = internal_DX_feature_pivot[DX_common_cols].copy(deep = True)\n",
    "external_DX_feature_pivot = external_DX_feature_pivot[DX_common_cols].copy(deep = True)\n",
    "# remove ID cols\n",
    "DX_common_cols = DX_common_cols[2:]"
   ]
  },
  {
   "cell_type": "code",
   "execution_count": null,
   "id": "e4d58da2-d4e4-45e3-94e5-7aa90355a29c",
   "metadata": {
    "tags": []
   },
   "outputs": [],
   "source": [
    "internal_data = internal_data.merge(internal_DX_feature_pivot, on = [\"PATID\", \"ONSETS_ENCOUNTERID\"], how='left')\n",
    "internal_data.loc[:, DX_common_cols] = internal_data[DX_common_cols].fillna(0)\n",
    "external_test_set = external_test_set.merge(external_DX_feature_pivot, on = [\"PATID\", \"ONSETS_ENCOUNTERID\"], how='left')\n",
    "external_test_set.loc[:, DX_common_cols] = external_test_set[DX_common_cols].fillna(0)\n",
    "print(len(internal_data), len(external_test_set))"
   ]
  },
  {
   "cell_type": "code",
   "execution_count": null,
   "id": "c5e6681b-21da-43d9-a9a6-a1e517d4be77",
   "metadata": {
    "tags": []
   },
   "outputs": [],
   "source": [
    "# read demographics\n",
    "internal_DEMO_df = pd.read_csv(\"/blue/yonghui.wu/hoyinchan/Data/data2022raw/KUMC_ORCALE/raw/AKI_DEMO.csv\", \n",
    "                      delimiter = ',', usecols = ['ONSETS_ENCOUNTERID', 'AGE', 'PATID', 'SEX', 'RACE'])\n",
    "external_DEMO_df = pd.read_csv(\"/blue/yonghui.wu/hoyinchan/Data/data2022raw/UPITT/raw/AKI_DEMO.csv\", \n",
    "                      delimiter = ',', usecols = ['ONSETS_ENCOUNTERID', 'AGE', 'PATID', 'SEX', 'RACE'])"
   ]
  },
  {
   "cell_type": "code",
   "execution_count": null,
   "id": "d0db8d7e-08ba-4177-a725-63f4e30f0236",
   "metadata": {
    "tags": []
   },
   "outputs": [],
   "source": [
    "# format the df\n",
    "internal_DEMO_df[['PATID', 'ONSETS_ENCOUNTERID', 'SEX', 'RACE']] = internal_DEMO_df[['PATID', 'ONSETS_ENCOUNTERID', 'SEX', 'RACE']].astype(str)\n",
    "external_DEMO_df[['PATID', 'ONSETS_ENCOUNTERID', 'SEX', 'RACE']] = external_DEMO_df[['PATID', 'ONSETS_ENCOUNTERID', 'SEX', 'RACE']].astype(str)\n",
    "internal_DEMO_df = internal_DEMO_df.drop_duplicates(subset=[\"PATID\", \"ONSETS_ENCOUNTERID\"]).reset_index(drop=True)\n",
    "external_DEMO_df = external_DEMO_df.drop_duplicates(subset=[\"PATID\", \"ONSETS_ENCOUNTERID\"]).reset_index(drop=True)"
   ]
  },
  {
   "cell_type": "code",
   "execution_count": null,
   "id": "aecc9fbf-5f0f-4f85-9221-42f3347b976d",
   "metadata": {
    "tags": []
   },
   "outputs": [],
   "source": [
    "internal_data = internal_data.merge(internal_DEMO_df, on = ['PATID', 'ONSETS_ENCOUNTERID'], how = \"left\")\n",
    "external_test_set = external_test_set.merge(external_DEMO_df, on = ['PATID', 'ONSETS_ENCOUNTERID'], how = \"left\")"
   ]
  },
  {
   "cell_type": "code",
   "execution_count": null,
   "id": "e741918f-a6ce-4e96-b643-ad73584425d1",
   "metadata": {
    "tags": []
   },
   "outputs": [],
   "source": [
    "patient_pool = internal_data.iloc[:train_len, :].copy(deep = True)\n",
    "internal_test_set = internal_data.iloc[train_len:, :].copy(deep = True)"
   ]
  },
  {
   "cell_type": "markdown",
   "id": "af8d8f59-2658-4192-969e-61f51ff06ae6",
   "metadata": {},
   "source": [
    "# Fill in Cohort Information Table"
   ]
  },
  {
   "cell_type": "code",
   "execution_count": null,
   "id": "a1ea2947-51ff-4f44-8bfe-1d0e88ee116e",
   "metadata": {
    "tags": []
   },
   "outputs": [],
   "source": [
    "from datetime import datetime, timedelta"
   ]
  },
  {
   "cell_type": "code",
   "execution_count": null,
   "id": "a7d4b632-22c6-42d3-a116-3b796f88aaeb",
   "metadata": {
    "tags": []
   },
   "outputs": [],
   "source": [
    "demo_info = pd.DataFrame(\"\", index = [\"Source\", \"Cohort size\", \"Time window\", \"Number of lab features\", \n",
    "                                      \"SCr trajectory days\", \"Averaged SCr levels 48h prior to the prediction points (mg/dL)\",\n",
    "                                      \"AKI rates (%)\", \"Male (%)\", \"Black race (%)\", \"Age ≥ 70 (%)\"], \n",
    "                         columns = [\"Patient pool\", \"Internal test set\", \"External test set\"])"
   ]
  },
  {
   "cell_type": "code",
   "execution_count": null,
   "id": "362ae500-21bc-4287-b5e3-825b01341b02",
   "metadata": {
    "tags": []
   },
   "outputs": [],
   "source": [
    "demo_info.loc[\"Source\", \"Patient pool\"] = \"KUMC\"\n",
    "demo_info.loc[\"Source\", \"Internal test set\"] = \"KUMC\"\n",
    "demo_info.loc[\"Source\", \"External test set\"] = \"UPMC\"\n",
    "\n",
    "demo_info.loc[\"Cohort size\", \"Patient pool\"] = len(patient_pool)\n",
    "demo_info.loc[\"Cohort size\", \"Internal test set\"] = len(internal_test_set)\n",
    "demo_info.loc[\"Cohort size\", \"External test set\"] = len(external_test_set)\n",
    "\n",
    "demo_info.loc[\"SCr trajectory days\", [\"Patient pool\", \"Internal test set\", \"External test set\"]] = len(SCR_feature_space)"
   ]
  },
  {
   "cell_type": "code",
   "execution_count": null,
   "id": "af4a6420-0fba-4534-bd8b-59545317b58b",
   "metadata": {
    "tags": []
   },
   "outputs": [],
   "source": [
    "def minus_one_day(date: str) -> str:\n",
    "    # Convert string to datetime object\n",
    "    date_obj = datetime.strptime(date, '%Y-%m-%d')\n",
    "\n",
    "    # Subtract one day\n",
    "    new_date_obj = date_obj - timedelta(days=1)\n",
    "\n",
    "    # Convert back to string\n",
    "    new_date_str = new_date_obj.strftime('%Y-%m-%d')\n",
    "    return new_date_str"
   ]
  },
  {
   "cell_type": "code",
   "execution_count": null,
   "id": "25e7313d-96ef-44e2-b8fd-625c836be825",
   "metadata": {
    "tags": []
   },
   "outputs": [],
   "source": [
    "demo_info.loc[\"Time window\", \"Patient pool\"] = \"%s ~ %s\"%(start_date, minus_one_day(split_date))\n",
    "demo_info.loc[\"Time window\", \"Internal test set\"] = \"%s ~ %s\"%(split_date, minus_one_day(end_date))\n",
    "demo_info.loc[\"Time window\", \"External test set\"] = \"%s ~ %s\"%(split_date, minus_one_day(end_date))\n",
    "\n",
    "demo_info.loc[\"AKI rates (%)\", \"Patient pool\"] = f\"{patient_pool.AKI_LABEL.mean() * 100:.2f}\"\n",
    "demo_info.loc[\"AKI rates (%)\", \"Internal test set\"] = f\"{internal_test_set.AKI_LABEL.mean() * 100:.2f}\"\n",
    "demo_info.loc[\"AKI rates (%)\", \"External test set\"] = f\"{external_test_set.AKI_LABEL.mean() * 100:.2f}\"\n",
    "\n",
    "demo_info.loc[\"Averaged SCr levels 48h prior to the prediction points (mg/dL)\", 'Patient pool'] = f\"{patient_pool['-2'].mean():.2f} ({patient_pool['-2'].std():.2f})\"\n",
    "demo_info.loc[\"Averaged SCr levels 48h prior to the prediction points (mg/dL)\", 'Internal test set'] = f\"{internal_test_set['-2'].mean():.2f} ({internal_test_set['-2'].std():.2f})\"\n",
    "demo_info.loc[\"Averaged SCr levels 48h prior to the prediction points (mg/dL)\", 'External test set'] = f\"{external_test_set['-2'].mean():.2f} ({external_test_set['-2'].std():.2f})\"\n",
    "\n",
    "demo_info.loc[\"Number of lab features\", [\"Patient pool\", \"Internal test set\", \"External test set\"]] = len(LAB_feature_space)\n",
    "\n",
    "demo_info.loc[\"Male (%)\", 'Patient pool'] = f\"{(patient_pool['SEX'] == \"M\").mean() * 100:.2f}\"\n",
    "demo_info.loc[\"Male (%)\", 'Internal test set'] = f\"{(internal_test_set['SEX'] == \"M\").mean() * 100:.2f}\"\n",
    "demo_info.loc[\"Male (%)\", 'External test set'] = f\"{(external_test_set['SEX'] == \"M\").mean() * 100:.2f}\"\n",
    "\n",
    "demo_info.loc[\"Black race (%)\", 'Patient pool'] = f\"{(patient_pool['RACE'] == \"03\").mean() * 100:.2f}\"\n",
    "demo_info.loc[\"Black race (%)\", 'Internal test set'] = f\"{(internal_test_set['RACE'] == \"03\").mean() * 100:.2f}\"\n",
    "demo_info.loc[\"Black race (%)\", 'External test set'] = f\"{(external_test_set['RACE'] == \"03\").mean() * 100:.2f}\"\n",
    "\n",
    "demo_info.loc[\"Age ≥ 70 (%)\", 'Patient pool'] = f\"{(patient_pool['AGE'] >= 70).mean() * 100:.2f}\"\n",
    "demo_info.loc[\"Age ≥ 70 (%)\", 'Internal test set'] = f\"{(internal_test_set['AGE'] >= 70).mean() * 100:.2f}\"\n",
    "demo_info.loc[\"Age ≥ 70 (%)\", 'External test set'] = f\"{(external_test_set['AGE'] >= 70).mean() * 100:.2f}\"\n",
    "\n",
    "for DX in DX_common_cols:\n",
    "    DX_index = DX.replace(\"_\", \" \").capitalize() + \" (%)\"\n",
    "    demo_info.loc[DX_index, 'Patient pool'] = f\"{(patient_pool[DX] == 1).mean() * 100:.2f}\"\n",
    "    demo_info.loc[DX_index, 'Internal test set'] = f\"{(internal_test_set[DX] == 1).mean() * 100:.2f}\"\n",
    "    demo_info.loc[DX_index, 'External test set'] = f\"{(external_test_set[DX] == 1).mean() * 100:.2f}\""
   ]
  },
  {
   "cell_type": "code",
   "execution_count": null,
   "id": "43695a5d-1ee6-47a9-897a-de34406d7058",
   "metadata": {
    "tags": []
   },
   "outputs": [],
   "source": [
    "# add p values\n",
    "from scipy.stats import chi2_contingency"
   ]
  },
  {
   "cell_type": "code",
   "execution_count": null,
   "id": "a248b4c0-4409-4fae-a596-d306c2b6bea9",
   "metadata": {
    "tags": []
   },
   "outputs": [],
   "source": [
    "def select_p_vals(p: float) -> str:\n",
    "    if p < 0.001:\n",
    "        return '<0.001'\n",
    "    elif p < 0.01:\n",
    "        return '<0.01'\n",
    "    elif p < 0.05:\n",
    "        return '<0.05'\n",
    "    else:\n",
    "        return 'NS'"
   ]
  },
  {
   "cell_type": "code",
   "execution_count": null,
   "id": "744867c2-3de1-498b-b79d-c4e8e257a1fd",
   "metadata": {
    "tags": []
   },
   "outputs": [],
   "source": [
    "n_rows_skip = 6\n",
    "cohort_sizes = np.array(demo_info.loc['Cohort size'].astype(int))\n",
    "# Initialize a list to store p-values\n",
    "p_values = []\n",
    "\n",
    "for row in demo_info.index[n_rows_skip:]:\n",
    "    # Convert percentages to counts using cohort sizes\n",
    "    DX_pcts = demo_info.loc[row].astype(float) / 100\n",
    "    counts = np.array((DX_pcts * cohort_sizes).round().astype(int))\n",
    "    \n",
    "    # Create a contingency table for chi-squared test\n",
    "    contingency_table = np.array([counts, cohort_sizes - counts])\n",
    "\n",
    "    # Perform chi-squared test\n",
    "    chi2, p, dof, expected = chi2_contingency(contingency_table)\n",
    "    p_values.append(select_p_vals(p))\n",
    "\n",
    "    # Add the p-values as a new column to the DataFrame\n",
    "demo_info['P-values'] = [\"/\"] * n_rows_skip + p_values  # First row is None, rest are p-values"
   ]
  },
  {
   "cell_type": "code",
   "execution_count": null,
   "id": "68f25766-5d18-4e90-a82a-86ed62a645ea",
   "metadata": {
    "tags": []
   },
   "outputs": [],
   "source": [
    "demo_info"
   ]
  },
  {
   "cell_type": "code",
   "execution_count": null,
   "id": "1f170900-015e-4ef0-9575-33cb2fff81fd",
   "metadata": {},
   "outputs": [],
   "source": [
    "demo_info.to_csv(\"./High_res_figures/cohort_information.csv\", index = True)"
   ]
  },
  {
   "cell_type": "markdown",
   "id": "8d95a045-581b-48c6-81f9-5b025bd7ac05",
   "metadata": {},
   "source": [
    "# Plot Grid Seach Table"
   ]
  },
  {
   "cell_type": "code",
   "execution_count": null,
   "id": "4ddecfe8-3acf-4fc6-8bc2-90ee6b746191",
   "metadata": {
    "tags": []
   },
   "outputs": [],
   "source": [
    "grid_search_table = pd.read_csv(\".../grid_search_table_imput2_LR.csv\",\n",
    "                               index_col = 0)"
   ]
  },
  {
   "cell_type": "code",
   "execution_count": null,
   "id": "d9dae48e-0835-4c5e-9426-2d3d18a01b57",
   "metadata": {
    "tags": []
   },
   "outputs": [],
   "source": [
    "def plot_measure_count(ax, condition: str, grid_search_table: pd.DataFrame, title: str) -> None:\n",
    "    count = dict(grid_search_table[condition].value_counts())\n",
    "    \n",
    "    if condition.startswith(\"SCR\"):\n",
    "        full_name = [\"DTW\", \"Euc\", \"Cos\", \"Manh\"]\n",
    "        for name in full_name:\n",
    "            if name not in list(count.keys()):\n",
    "                count[name] = 0\n",
    "    else:\n",
    "        full_name = [\"Euc\", \"Cos\", \"Manh\"]\n",
    "        for name in full_name:\n",
    "            if name not in list(count.keys()):\n",
    "                count[name] = 0\n",
    "                \n",
    "    ax.barh(list(count.keys())[::-1], list(count.values())[::-1], color= ['blue'] * (len(count) - 1) + ['orange'])\n",
    "    \n",
    "    \n",
    "    ax.set_xlabel('Number of times')\n",
    "    ax.set_ylabel('Distance measures')\n",
    "    ax.set_title(title)"
   ]
  },
  {
   "cell_type": "code",
   "execution_count": null,
   "id": "e36f6c83-c50f-4fff-8804-504db20b18ff",
   "metadata": {
    "tags": []
   },
   "outputs": [],
   "source": [
    "fig, axs = plt.subplots(2, 2, figsize=(10, 6)) \n",
    "plot_measure_count(axs[0, 0], \"SCR NW\", grid_search_table, \"SCr w/o OW\")\n",
    "plot_measure_count(axs[0, 1], \"SCR WT\", grid_search_table, \"SCr w/ OW\")\n",
    "plot_measure_count(axs[1, 0], \"LAB NW\", grid_search_table, \"Lab w/o OW\")\n",
    "plot_measure_count(axs[1, 1], \"LAB WT\", grid_search_table, \"Lab w/ OW\")\n",
    "add_subplot_index(axs, 2, 2)\n",
    "plt.tight_layout()\n",
    "plt.show()\n",
    "save_figure(fig, figure_folder, \"Distance-measure-counts\")"
   ]
  },
  {
   "cell_type": "code",
   "execution_count": null,
   "id": "58957440-b1b8-407a-9626-a6849e81c41a",
   "metadata": {
    "tags": []
   },
   "outputs": [],
   "source": [
    "vanilla_SCR_weights = list(eval(combo)[0] for combo in grid_search_table[\"COMBINE NW\"])\n",
    "vanilla_LAB_weights = list(eval(combo)[1] for combo in grid_search_table[\"COMBINE NW\"])\n",
    "OW_SCR_weights = list(eval(combo)[0] for combo in grid_search_table[\"COMBINE WT\"])\n",
    "OW_LAB_weights = list(eval(combo)[1] for combo in grid_search_table[\"COMBINE WT\"])"
   ]
  },
  {
   "cell_type": "code",
   "execution_count": null,
   "id": "753e1c12-874a-459e-9cf8-b379f8c8232a",
   "metadata": {
    "tags": []
   },
   "outputs": [],
   "source": [
    "from matplotlib.lines import Line2D\n",
    "k_sizes_train = [i for i in range(10, 201, 5)]"
   ]
  },
  {
   "cell_type": "code",
   "execution_count": null,
   "id": "28be951a-8b48-40b5-8c86-19c8cb3c3f7f",
   "metadata": {
    "tags": []
   },
   "outputs": [],
   "source": [
    "fig, axs = plt.subplots(2, 1, figsize=(8, 5)) \n",
    "axs[0].plot(k_sizes_train, vanilla_SCR_weights, marker='o', markersize = 4)\n",
    "axs[0].plot(k_sizes_train, vanilla_LAB_weights, marker='o', markersize = 4)\n",
    "axs[1].plot(k_sizes_train, OW_SCR_weights, marker='o', markersize = 4)\n",
    "axs[1].plot(k_sizes_train, OW_LAB_weights, marker='o', markersize = 4)\n",
    "axs[0].set_ylim(0, 1)\n",
    "axs[1].set_ylim(0, 1)\n",
    "axs[0].set_xlabel(\"k\")\n",
    "axs[1].set_xlabel(\"k\")\n",
    "\n",
    "axs[0].set_title(\"Feature Type Weights w/o OW\")\n",
    "axs[1].set_title(\"Feature Type Weights w/ OW\")\n",
    "\n",
    "lines = [Line2D([0], [0], color='C0', marker='o', markersize=4, linestyle='-', label='SCr'),\n",
    "         Line2D([0], [0], color='C1', marker='o', markersize=4, linestyle='-', label='Lab')]\n",
    "\n",
    "fig.legend(handles=lines, loc='center left', bbox_to_anchor=(1, 0.5))\n",
    "add_subplot_index(axs, 2, 1)\n",
    "plt.tight_layout()\n",
    "plt.show()\n",
    "save_figure(fig, figure_folder, \"Feature-type-weighting\")"
   ]
  },
  {
   "cell_type": "markdown",
   "id": "386b4740-5801-455e-9987-a4fb49955e87",
   "metadata": {},
   "source": [
    "# Plot Overlap Rate Matrix Heatmap"
   ]
  },
  {
   "cell_type": "code",
   "execution_count": null,
   "id": "942dba9c-2638-4e1f-a170-ad9fcd5acaca",
   "metadata": {
    "tags": []
   },
   "outputs": [],
   "source": [
    "import json"
   ]
  },
  {
   "cell_type": "code",
   "execution_count": null,
   "id": "3a815b15-4545-4761-8ace-507e2e847c95",
   "metadata": {},
   "outputs": [],
   "source": [
    "#data overlap rate (entire dataset)\n",
    "SCR_overlap_internal = np.load('.../SCR_overlap.npy')\n",
    "LAB_overlap_internal = np.load('.../lab_overlap.npy')\n",
    "SCR_overlap_external = np.load('.../SCR_overlap_external.npy')\n",
    "LAB_overlap_external = np.load('.../lab_overlap_external.npy')"
   ]
  },
  {
   "cell_type": "code",
   "execution_count": null,
   "id": "4b5dbe6b-562d-4337-a137-824c92300fc9",
   "metadata": {
    "tags": []
   },
   "outputs": [],
   "source": [
    "SCR_internal_train = SCR_overlap_internal[:train_len, :train_len]\n",
    "SCR_internal_test_to_train = SCR_overlap_internal[train_len:, :train_len]\n",
    "SCR_external_test_to_train = SCR_overlap_external[train_len:, :train_len]\n",
    "\n",
    "LAB_internal_train = LAB_overlap_internal[:train_len, :train_len]\n",
    "LAB_internal_test_to_train = LAB_overlap_internal[train_len:, :train_len]\n",
    "LAB_external_test_to_train = LAB_overlap_external[train_len:, :train_len]"
   ]
  },
  {
   "cell_type": "code",
   "execution_count": null,
   "id": "360e54ee-af3f-4ecf-a070-90d8461fd49a",
   "metadata": {
    "tags": []
   },
   "outputs": [],
   "source": [
    "def plot_matrix_dist(ax, mtx, title):\n",
    "    array_1d = mtx.flatten()\n",
    "\n",
    "    bins = np.arange(0, 1.01, 0.01)\n",
    "    hist, bin_edges, patches = ax.hist(array_1d, bins=bins, edgecolor='none', alpha=0.6, color = \"black\")\n",
    "    \n",
    "    median_val = np.median(array_1d)\n",
    "    \n",
    "    for i in range(len(bin_edges) - 1):\n",
    "        if bin_edges[i] <= median_val < bin_edges[i + 1]:\n",
    "            patches[i].set_facecolor('red')\n",
    "            break\n",
    "\n",
    "    ax.set_xlabel('Value')\n",
    "    ax.set_ylabel('Frequency')\n",
    "    ax.set_title(title)"
   ]
  },
  {
   "cell_type": "code",
   "execution_count": null,
   "id": "bad3588f-cc39-487d-9d85-b7e0ab02b096",
   "metadata": {
    "tags": []
   },
   "outputs": [],
   "source": [
    "fig, axs = plt.subplots(2, 3, figsize=(12, 6)) \n",
    "# SCR\n",
    "plot_matrix_dist(axs[0, 0], SCR_internal_train, \"SCr: Inter-patient Pool\")\n",
    "plot_matrix_dist(axs[0, 1], SCR_internal_test_to_train, \"SCr: Internal Test Set to Patient Pool\")\n",
    "plot_matrix_dist(axs[0, 2], SCR_external_test_to_train, \"SCr: Exterbal Test Set to Patient Pool\")\n",
    "# Lab\n",
    "plot_matrix_dist(axs[1, 0], LAB_internal_train, \"Lab: Inter-patient Pool\")\n",
    "plot_matrix_dist(axs[1, 1], LAB_internal_test_to_train, \"Lab: Internal Test Set to Patient Pool\")\n",
    "plot_matrix_dist(axs[1, 2], LAB_external_test_to_train, \"Lab: Exterbal Test Set to Patient Pool\")\n",
    "add_subplot_index(axs, 2, 3)\n",
    "plt.tight_layout()\n",
    "plt.show()\n",
    "save_figure(fig, figure_folder, \"Overlap-rates-distribution\")"
   ]
  },
  {
   "cell_type": "code",
   "execution_count": null,
   "id": "03d80e06-fba8-4613-a8d8-fd22fc39f92c",
   "metadata": {
    "tags": []
   },
   "outputs": [],
   "source": [
    "def plot_data_missing_rates(ax, df, col_names, title, ylabel, sort = False):\n",
    "    nan_rate = df[col_names].isna().mean()\n",
    "    \n",
    "    if sort:\n",
    "        nan_rate = nan_rate.sort_values(ascending=True)\n",
    "\n",
    "    ax.barh(nan_rate.index, nan_rate.values, color='skyblue')\n",
    "    ax.set_xlabel('Data Missing Rate')\n",
    "    ax.set_ylabel(ylabel)\n",
    "    ax.set_title(title)"
   ]
  },
  {
   "cell_type": "code",
   "execution_count": null,
   "id": "55d66673-495c-4006-b849-9292cc2902cc",
   "metadata": {
    "tags": []
   },
   "outputs": [],
   "source": [
    "from matplotlib.gridspec import GridSpec\n",
    "\n",
    "# Create the figure and gridspec\n",
    "fig = plt.figure(figsize=(12, 9))\n",
    "gs = GridSpec(3, 3, figure=fig) \n",
    "# Plot the 2x2 grid (SCR-LR plots)\n",
    "axs = [fig.add_subplot(gs[0, 0]), fig.add_subplot(gs[0, 1]), fig.add_subplot(gs[0, 2]), \n",
    "       fig.add_subplot(gs[1:3, 0]), fig.add_subplot(gs[1:3, 1]), fig.add_subplot(gs[1:3, 2])]\n",
    "\n",
    "\n",
    "plot_data_missing_rates(axs[0], patient_pool, SCR_feature_space[::-1], \"Patient Pool SCr Missing Rates\", \"Days to prediction point\")\n",
    "plot_data_missing_rates(axs[1], internal_test_set, SCR_feature_space[::-1], \"Internal Test Set SCr Missing Rates\", \"Days to prediction point\")\n",
    "plot_data_missing_rates(axs[2], external_test_set, SCR_feature_space[::-1], \"External Test Set SCr Missing Rates\", \"Days to prediction point\")\n",
    "plot_data_missing_rates(axs[3], patient_pool, LAB_feature_space, \"Patient Pool Lab Missing Rates\", \"LOINC codes\", True)\n",
    "plot_data_missing_rates(axs[4], internal_test_set, LAB_feature_space, \"Internal Test Set Lab Missing Rates\", \"LOINC codes\", True)\n",
    "plot_data_missing_rates(axs[5], external_test_set, LAB_feature_space, \"External Test Set Lab Missing Rates\", \"LOINC codes\", True)\n",
    "\n",
    "labels = ['a', 'b', 'c', 'd', 'e', 'f', 'g']\n",
    "\n",
    "for ax, label in zip(axs, labels):\n",
    "    # Add text label at the top-left corner of each subplot\n",
    "    ax.text(-0.1, 1.1, label, transform=ax.transAxes, fontsize=14, \n",
    "            fontweight='bold', va='top', ha='right')\n",
    "\n",
    "plt.tight_layout()\n",
    "plt.show()\n",
    "save_figure(fig, figure_folder, \"Feature-raw-missing-rates\")"
   ]
  },
  {
   "cell_type": "markdown",
   "id": "4ec4cb9a-e9ba-488b-a834-897acc05d9f5",
   "metadata": {},
   "source": [
    "# Workflow"
   ]
  },
  {
   "cell_type": "code",
   "execution_count": null,
   "id": "8396ab84-c946-4a14-9a91-c9a627fe5cfc",
   "metadata": {
    "tags": []
   },
   "outputs": [],
   "source": [
    "import matplotlib.pyplot as plt\n",
    "import numpy as np\n",
    "\n",
    "# Data\n",
    "A = [0.3, 0.5, 0.6, np.nan, 0.4, np.nan, 0.8]\n",
    "B = [0.33, 0.4, 0.55, 0.3, np.nan, 0.5, 0.7]\n",
    "x = [-8, -7, -6, -5, -4, -3, -2]\n",
    "\n",
    "# Convert lists to NumPy arrays\n",
    "A = np.array(A)\n",
    "B = np.array(B)\n",
    "plt.figure(figsize=(4, 2.5))\n",
    "# Plot the dots for A and B\n",
    "plt.scatter(x, A, color='blue', label='i-th patient', marker='o')  # Plot A\n",
    "plt.scatter(x, B, color='orange', label='j-th patient', marker='o')  # Plot B\n",
    "\n",
    "# Add labels and title\n",
    "plt.xlabel(\"Days to AKI onset\")\n",
    "plt.ylabel(\"μg/dL\")\n",
    "plt.title(\"7-day SCr Trajectories\")\n",
    "plt.legend()\n",
    "plt.grid(True, linestyle='--', alpha=0.3)\n",
    "plt.tight_layout()\n",
    "plt.savefig(\"./High_res_figures/Workflow/SCR_Data.tiff\", dpi=300, format=\"tiff\")\n",
    "# Show the plot\n",
    "plt.show()"
   ]
  }
 ],
 "metadata": {
  "kernelspec": {
   "display_name": "AKI_personalized_modeling",
   "language": "python",
   "name": "aki_personalized_modeling"
  },
  "language_info": {
   "codemirror_mode": {
    "name": "ipython",
    "version": 3
   },
   "file_extension": ".py",
   "mimetype": "text/x-python",
   "name": "python",
   "nbconvert_exporter": "python",
   "pygments_lexer": "ipython3",
   "version": "3.12.5"
  }
 },
 "nbformat": 4,
 "nbformat_minor": 5
}
