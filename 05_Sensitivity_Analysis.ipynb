{
 "cells": [
  {
   "cell_type": "code",
   "execution_count": null,
   "id": "15c9540a-db4b-4080-92b2-bbee022b8c74",
   "metadata": {
    "tags": []
   },
   "outputs": [],
   "source": [
    "import pandas as pd\n",
    "import numpy as np\n",
    "import json\n",
    "import multiprocessing\n",
    "import matplotlib.pyplot as plt"
   ]
  },
  {
   "cell_type": "code",
   "execution_count": null,
   "id": "b3461558-bdb5-45c4-ace0-e78b46f98e7d",
   "metadata": {
    "tags": []
   },
   "outputs": [],
   "source": [
    "dataset = pd.read_csv(\".../dataset.csv\")"
   ]
  },
  {
   "cell_type": "code",
   "execution_count": null,
   "id": "e76fa609",
   "metadata": {},
   "outputs": [],
   "source": [
    "len(dataset)"
   ]
  },
  {
   "cell_type": "code",
   "execution_count": null,
   "id": "2600d60c-7b41-4ebf-9392-f1f4d5cb66e1",
   "metadata": {
    "tags": []
   },
   "outputs": [],
   "source": [
    "# Load the variables\n",
    "with open('./utils/variables.json', 'r') as file:\n",
    "    variables = json.load(file)\n",
    "\n",
    "SCR_feature_space = variables['SCR_feature_space']\n",
    "LAB_feature_space = variables['LAB_feature_space']\n",
    "train_len = variables['train_len']\n",
    "test_len = variables['test_len']\n",
    "print(len(SCR_feature_space), len(LAB_feature_space))\n",
    "print(train_len, test_len)\n",
    "\n",
    "# get num_processors for parallel computing\n",
    "num_processors = multiprocessing.cpu_count()"
   ]
  },
  {
   "cell_type": "code",
   "execution_count": null,
   "id": "5ef8f7b8-eb48-428c-8110-4903196bfaf4",
   "metadata": {
    "tags": []
   },
   "outputs": [],
   "source": [
    "figure_folder = \"Sensitivity_analysis\""
   ]
  },
  {
   "cell_type": "code",
   "execution_count": null,
   "id": "71eefece-356c-4479-97f9-970c28a1653f",
   "metadata": {},
   "outputs": [],
   "source": [
    "# drop patients for test set, drop patients contains nan\n",
    "data_train = dataset.iloc[:train_len, :].copy(deep = True)\n",
    "data_train = data_train.dropna() "
   ]
  },
  {
   "cell_type": "code",
   "execution_count": null,
   "id": "90a975fd-79c7-4d72-bc00-48a423101978",
   "metadata": {},
   "outputs": [],
   "source": [
    "SCR_part = dataset.loc[:, SCR_feature_space]\n",
    "LAB_part = dataset.loc[:, LAB_feature_space]"
   ]
  },
  {
   "cell_type": "code",
   "execution_count": null,
   "id": "6479aa6b-448f-4737-90b5-4585e6386900",
   "metadata": {},
   "outputs": [],
   "source": [
    "SCR_part_bin = SCR_part.notna().astype(int)\n",
    "LAB_part_bin = LAB_part.notna().astype(int)"
   ]
  },
  {
   "cell_type": "markdown",
   "id": "e59bc992-89a9-496c-ae96-4c9e704130e9",
   "metadata": {},
   "source": [
    "# Range from [1.2, 1.5, 1.7, 2.0, 2.5] for SCr Features"
   ]
  },
  {
   "cell_type": "code",
   "execution_count": null,
   "id": "233a3791-32f2-4864-9403-bf65d22a7685",
   "metadata": {
    "tags": []
   },
   "outputs": [],
   "source": [
    "import scipy.stats as stats"
   ]
  },
  {
   "cell_type": "code",
   "execution_count": null,
   "id": "3aed7d91-e162-4c7a-a71a-b83a045c58a0",
   "metadata": {
    "tags": []
   },
   "outputs": [],
   "source": [
    "mean = 0.0\n",
    "sd_SCR_space = [1.2, 1.5, 1.7, 2.0, 2.5]\n",
    "SCR_overlap_weighting_space = []\n",
    "\n",
    "for sd in sd_SCR_space:\n",
    "    SCR_overlap_weighting = []\n",
    "    for i in range(len(SCR_feature_space)):\n",
    "        pos = len(SCR_feature_space) - 1 - i\n",
    "        AUC = stats.norm.cdf(pos + 1, loc=mean, scale=sd) - stats.norm.cdf(pos, loc=mean, scale=sd)\n",
    "        SCR_overlap_weighting.append(AUC)\n",
    "\n",
    "    SCR_overlap_weighting = list(np.array(SCR_overlap_weighting) * 2)\n",
    "    SCR_overlap_weighting_space.append(SCR_overlap_weighting)"
   ]
  },
  {
   "cell_type": "markdown",
   "id": "6e16385c-6893-4387-858d-382a707085ef",
   "metadata": {},
   "source": [
    "# Range from [0.1, 0.3, 0.5, 0.7, 1.0] for Lab Features"
   ]
  },
  {
   "cell_type": "code",
   "execution_count": null,
   "id": "f6111619-260b-46d9-a86c-921fa92973cf",
   "metadata": {
    "tags": []
   },
   "outputs": [],
   "source": [
    "from sklearn.ensemble import RandomForestClassifier"
   ]
  },
  {
   "cell_type": "code",
   "execution_count": null,
   "id": "46e6a826-1f27-45ea-b604-0543269e3dfa",
   "metadata": {
    "tags": []
   },
   "outputs": [],
   "source": [
    "LAB_train = data_train.drop(columns=['AKI_LABEL']).loc[:, LAB_feature_space].copy(deep = True)\n",
    "y_train = data_train['AKI_LABEL'].copy(deep = True)"
   ]
  },
  {
   "cell_type": "code",
   "execution_count": null,
   "id": "5163a6e6-051d-474f-bc99-ec9e1d0d7330",
   "metadata": {
    "tags": []
   },
   "outputs": [],
   "source": [
    "rf = RandomForestClassifier(n_estimators=100, random_state=42)\n",
    "rf.fit(LAB_train, y_train)"
   ]
  },
  {
   "cell_type": "code",
   "execution_count": null,
   "id": "c1238dc2-9331-4780-bf8b-10ef98bc9da1",
   "metadata": {
    "tags": []
   },
   "outputs": [],
   "source": [
    "feature_importances = rf.feature_importances_\n",
    "\n",
    "# ascending order\n",
    "feature_importance_df = pd.DataFrame({\n",
    "    'Feature': LAB_train.columns,\n",
    "    'Importance': feature_importances\n",
    "})\n",
    "\n",
    "assert(len(feature_importance_df) == len(LAB_feature_space))"
   ]
  },
  {
   "cell_type": "code",
   "execution_count": null,
   "id": "a2e78f18-efcd-4fe2-bb08-d0ff38864bfe",
   "metadata": {},
   "outputs": [],
   "source": [
    "top_rates_space = [0.1, 0.3, 0.5, 0.7, 1.0]\n",
    "lab_overlap_weighting_space = []\n",
    "\n",
    "for top_rate in top_rates_space:\n",
    "    \n",
    "    threshold = feature_importance_df['Importance'].quantile(1 - top_rate)\n",
    "    print(top_rate, threshold)\n",
    "    top_features = feature_importance_df['Importance'] >= threshold\n",
    "    feature_importance_df['Weighting'] = 0.0\n",
    "    feature_importance_df.loc[top_features, 'Weighting'] = \\\n",
    "    feature_importance_df.loc[top_features, 'Importance'] / feature_importance_df.loc[top_features, 'Importance'].sum()\n",
    "    lab_overlap_weighting = list(feature_importance_df['Weighting'])\n",
    "    lab_overlap_weighting_space.append(lab_overlap_weighting)"
   ]
  },
  {
   "cell_type": "markdown",
   "id": "ff56d76e-2a9e-4444-aeac-5ed1ad46ba60",
   "metadata": {},
   "source": [
    "# Main Computing"
   ]
  },
  {
   "cell_type": "code",
   "execution_count": null,
   "id": "b860bd70-db34-4d58-9031-a45407bde227",
   "metadata": {
    "tags": []
   },
   "outputs": [],
   "source": [
    "from utils.Data_Overlap_Rates_Computing import parallel_overlap_matrix_comp, check_matrix_sanity, \\\n",
    "calculate_overlap_rate_SCR, calculate_overlap_rate_LAB"
   ]
  },
  {
   "cell_type": "code",
   "execution_count": null,
   "id": "bae98337-c88a-4471-8b72-33991f329179",
   "metadata": {},
   "outputs": [],
   "source": [
    "for i in range(len(SCR_overlap_weighting_space)):\n",
    "    SCR_overlap_weighting = SCR_overlap_weighting_space[i]\n",
    "    SCR_overlap = parallel_overlap_matrix_comp(SCR_part_bin, num_processors, \n",
    "                                           calculate_overlap_rate_SCR, SCR_overlap_weighting)\n",
    "    check_matrix_sanity(SCR_overlap)\n",
    "    np.save('.../sensitivity_analysis/SCR_overlap_%s.npy'%(i), SCR_overlap)"
   ]
  },
  {
   "cell_type": "code",
   "execution_count": null,
   "id": "0934be46-e1b2-4b43-8e69-bed7917a69dc",
   "metadata": {
    "tags": []
   },
   "outputs": [],
   "source": [
    "for i in range(len(lab_overlap_weighting_space)):\n",
    "    LAB_overlap_weighting = lab_overlap_weighting_space[i]\n",
    "    LAB_overlap = parallel_overlap_matrix_comp(LAB_part_bin, num_processors, \n",
    "                                           calculate_overlap_rate_LAB, LAB_overlap_weighting)\n",
    "    check_matrix_sanity(LAB_overlap)\n",
    "    np.save('.../sensitivity_analysis/lab_overlap_%s.npy'%(i), LAB_overlap)"
   ]
  },
  {
   "cell_type": "code",
   "execution_count": null,
   "id": "b8140e32-a63c-4199-be2c-75ddb5f86f1b",
   "metadata": {},
   "outputs": [],
   "source": [
    "# we add extra all ONE matrix to represent the no overlap weights\n",
    "ONE_arr = np.ones((len(dataset), len(dataset)))\n",
    "np.save('.../sensitivity_analysis/SCR_overlap_%s.npy'%(len(SCR_overlap_weighting_space)), ONE_arr)\n",
    "np.save('.../sensitivity_analysis/lab_overlap_%s.npy'%(len(lab_overlap_weighting_space)), ONE_arr)"
   ]
  },
  {
   "cell_type": "markdown",
   "id": "81a6a028-39cd-4f30-9027-6af9fdbe0006",
   "metadata": {},
   "source": [
    "# Read Pickle File for Necessary Data"
   ]
  },
  {
   "cell_type": "code",
   "execution_count": null,
   "id": "9e8a7dd0",
   "metadata": {},
   "outputs": [],
   "source": [
    "import pickle"
   ]
  },
  {
   "cell_type": "code",
   "execution_count": null,
   "id": "3ba10f29",
   "metadata": {},
   "outputs": [],
   "source": [
    "with open('.../sensitivity_analysis/sensitivity_analysis_materials.pkl', 'rb') as file:\n",
    "    materials = pickle.load(file)\n",
    "\n",
    "nw_fea_arrs_dict = materials['nw_fea_arrs_dict']\n",
    "SCR_train = materials['SCR_train']\n",
    "SCR_test = materials['SCR_test']\n",
    "LAB_train = materials['LAB_train']\n",
    "LAB_test = materials['LAB_test']\n",
    "y_test = materials['y_test']\n",
    "y_full = materials['y_full']\n",
    "k_sizes_test = materials['k_sizes_test']\n",
    "train_idx = materials['train_idx']\n",
    "test_idx = materials['test_idx']"
   ]
  },
  {
   "cell_type": "markdown",
   "id": "a41e0bae",
   "metadata": {},
   "source": [
    "# Main Evaluation"
   ]
  },
  {
   "cell_type": "code",
   "execution_count": null,
   "id": "f69a9f9b",
   "metadata": {},
   "outputs": [],
   "source": [
    "from utils.Distance_Computing import overlap_rates_weighting\n",
    "from utils.Testing import process_idx_arr_for_test, evluate_on_test_set\n",
    "from tqdm import tqdm"
   ]
  },
  {
   "cell_type": "code",
   "execution_count": null,
   "id": "223db93a",
   "metadata": {},
   "outputs": [],
   "source": [
    "sensitivity_analysis_results = {\n",
    "    \"SCR\": {\n",
    "        \"KNN\": {\n",
    "            \"DTW\": {}, \"Euc\": {}, \"Cos\": {}, \"Manh\": {}\n",
    "        },\n",
    "        \"LR\": {\n",
    "            \"DTW\": {}, \"Euc\": {}, \"Cos\": {}, \"Manh\": {}\n",
    "        }\n",
    "    },\n",
    "    \"LAB\": {\n",
    "        \"KNN\": {\n",
    "            \"Euc\": {}, \"Cos\": {}, \"Manh\": {}\n",
    "        },\n",
    "        \"LR\": {\n",
    "            \"Euc\": {}, \"Cos\": {}, \"Manh\": {}\n",
    "        }\n",
    "    }\n",
    "}"
   ]
  },
  {
   "cell_type": "code",
   "execution_count": null,
   "id": "276e8403",
   "metadata": {},
   "outputs": [],
   "source": [
    "assert len(SCR_overlap_weighting_space) == len(lab_overlap_weighting_space)\n",
    "\n",
    "for i in range(len(SCR_overlap_weighting_space) + 1):\n",
    "\n",
    "    # read pre-computed pairwise data overlap rates\n",
    "    SCR_overlap_full = np.load('.../sensitivity_analysis/SCR_overlap_%s.npy'%(i))\n",
    "    LAB_overlap_full = np.load('.../sensitivity_analysis/lab_overlap_%s.npy'%(i))\n",
    "    \n",
    "    # on full data (for testing)\n",
    "    # SCR\n",
    "    SCR_DTW_simi_wt_full, SCR_DTW_idx_wt_full = overlap_rates_weighting(SCR_overlap_full, nw_fea_arrs_dict[\"SCR\"][\"DTW\"][\"simi\"][\"full\"], num_processors)\n",
    "    SCR_Euc_simi_wt_full, SCR_Euc_idx_wt_full = overlap_rates_weighting(SCR_overlap_full, nw_fea_arrs_dict[\"SCR\"][\"Euc\"][\"simi\"][\"full\"], num_processors)\n",
    "    SCR_Cos_simi_wt_full, SCR_Cos_idx_wt_full = overlap_rates_weighting(SCR_overlap_full, nw_fea_arrs_dict[\"SCR\"][\"Cos\"][\"simi\"][\"full\"], num_processors)\n",
    "    SCR_Manh_simi_wt_full, SCR_Manh_idx_wt_full = overlap_rates_weighting(SCR_overlap_full, nw_fea_arrs_dict[\"SCR\"][\"Manh\"][\"simi\"][\"full\"], num_processors)\n",
    "    \n",
    "    # LAB\n",
    "    LAB_Euc_simi_wt_full, LAB_Euc_idx_wt_full = overlap_rates_weighting(LAB_overlap_full, nw_fea_arrs_dict[\"LAB\"][\"Euc\"][\"simi\"][\"full\"], num_processors)\n",
    "    LAB_Cos_simi_wt_full, LAB_Cos_idx_wt_full = overlap_rates_weighting(LAB_overlap_full, nw_fea_arrs_dict[\"LAB\"][\"Cos\"][\"simi\"][\"full\"], num_processors)\n",
    "    LAB_Manh_simi_wt_full, LAB_Manh_idx_wt_full = overlap_rates_weighting(LAB_overlap_full, nw_fea_arrs_dict[\"LAB\"][\"Manh\"][\"simi\"][\"full\"], num_processors)\n",
    "    \n",
    "    # simi here is the un-ordered, normalized similarity score matrix, idx is the ordered paitent index matrix\n",
    "    # nw stands for not weighted by data overlap rates matrix\n",
    "    wt_fea_arrs_dict = {\"SCR\": {\"DTW\": {\"simi\": {\"full\": SCR_DTW_simi_wt_full}, \"idx\": {\"full\": SCR_DTW_idx_wt_full}}, \n",
    "                                \"Euc\": {\"simi\": {\"full\": SCR_Euc_simi_wt_full}, \"idx\": {\"full\": SCR_Euc_idx_wt_full}}, \n",
    "                                \"Cos\": {\"simi\": {\"full\": SCR_Cos_simi_wt_full}, \"idx\": {\"full\": SCR_Cos_idx_wt_full}}, \n",
    "                                \"Manh\":{\"simi\": {\"full\": SCR_Manh_simi_wt_full}, \"idx\": {\"full\": SCR_Manh_idx_wt_full}}}, \n",
    "                        \"LAB\": {\"Euc\": {\"simi\": {\"full\": LAB_Euc_simi_wt_full}, \"idx\": {\"full\": LAB_Euc_idx_wt_full}}, \n",
    "                                \"Cos\": {\"simi\": {\"full\": LAB_Cos_simi_wt_full}, \"idx\": {\"full\": LAB_Cos_idx_wt_full}}, \n",
    "                                \"Manh\":{\"simi\": {\"full\": LAB_Manh_simi_wt_full}, \"idx\": {\"full\": LAB_Manh_idx_wt_full}}}}\n",
    "    \n",
    "\n",
    "    SCR_idx_y_wt_dict_test = {}\n",
    "    LAB_idx_y_wt_dict_test = {}\n",
    "    for dist_measure, arrs in tqdm(wt_fea_arrs_dict[\"SCR\"].items()):\n",
    "        idx_arr_test_clean, y_test_arr = process_idx_arr_for_test(train_idx, test_idx, arrs[\"idx\"][\"full\"], y_full)\n",
    "        SCR_idx_y_wt_dict_test[dist_measure] = {\"idx\": idx_arr_test_clean, \"label\": y_test_arr}\n",
    "    for dist_measure, arrs in tqdm(wt_fea_arrs_dict[\"LAB\"].items()):\n",
    "        idx_arr_test_clean, y_test_arr = process_idx_arr_for_test(train_idx, test_idx, arrs[\"idx\"][\"full\"], y_full)\n",
    "        LAB_idx_y_wt_dict_test[dist_measure] = {\"idx\": idx_arr_test_clean, \"label\": y_test_arr}\n",
    "        \n",
    "        \n",
    "    SCR_DTW_control_KNN, _ = evluate_on_test_set(SCR_train, SCR_test, LAB_train, LAB_test, \"DTW\", \"Euc\", \n",
    "                                             y_test, k_sizes_test, None, SCR_idx_y_wt_dict_test, \n",
    "                                             None, LAB_idx_y_wt_dict_test, \"KNN\", test_nw = False)\n",
    "    SCR_Euc_control_KNN, LAB_Euc_control_KNN = evluate_on_test_set(SCR_train, SCR_test, LAB_train, LAB_test, \"Euc\", \"Euc\", y_test, k_sizes_test, \n",
    "                                                               None, SCR_idx_y_wt_dict_test, \n",
    "                                                               None, LAB_idx_y_wt_dict_test, \"KNN\", test_nw = False)\n",
    "    SCR_Cos_control_KNN, LAB_Cos_control_KNN = evluate_on_test_set(SCR_train, SCR_test, LAB_train, LAB_test, \"Cos\", \"Cos\", \n",
    "                                                               y_test, k_sizes_test, None, SCR_idx_y_wt_dict_test, \n",
    "                                                               None, LAB_idx_y_wt_dict_test, \"KNN\", test_nw = False)\n",
    "    SCR_Manh_control_KNN, LAB_Manh_control_KNN = evluate_on_test_set(SCR_train, SCR_test, LAB_train, LAB_test, \"Manh\", \"Manh\", \n",
    "                                                                 y_test, k_sizes_test, None, SCR_idx_y_wt_dict_test, \n",
    "                                                                 None, LAB_idx_y_wt_dict_test, \"KNN\", test_nw = False)\n",
    "    \n",
    "    SCR_DTW_control_LR, _ = evluate_on_test_set(SCR_train, SCR_test, LAB_train, LAB_test, \"DTW\", \"Euc\", \n",
    "                                             y_test, k_sizes_test, None, SCR_idx_y_wt_dict_test, \n",
    "                                             None, LAB_idx_y_wt_dict_test, \"LR\", test_nw = False)\n",
    "    SCR_Euc_control_LR, LAB_Euc_control_LR = evluate_on_test_set(SCR_train, SCR_test, LAB_train, LAB_test, \"Euc\", \"Euc\", \n",
    "                                                             y_test, k_sizes_test, None, SCR_idx_y_wt_dict_test, \n",
    "                                                             None, LAB_idx_y_wt_dict_test, \"LR\", test_nw = False)\n",
    "\n",
    "    SCR_Cos_control_LR, LAB_Cos_control_LR = evluate_on_test_set(SCR_train, SCR_test, LAB_train, LAB_test, \"Cos\", \"Cos\", \n",
    "                                                               y_test, k_sizes_test, None, SCR_idx_y_wt_dict_test, \n",
    "                                                               None, LAB_idx_y_wt_dict_test, \"LR\", test_nw = False)\n",
    "\n",
    "    SCR_Manh_control_LR, LAB_Manh_control_LR = evluate_on_test_set(SCR_train, SCR_test, LAB_train, LAB_test, \"Manh\", \"Manh\", \n",
    "                                                                y_test, k_sizes_test, None, SCR_idx_y_wt_dict_test, \n",
    "                                                                None, LAB_idx_y_wt_dict_test, \"LR\", test_nw = False)\n",
    "    \n",
    "    sensitivity_analysis_results[\"SCR\"][\"KNN\"][\"DTW\"][i] = SCR_DTW_control_KNN\n",
    "    sensitivity_analysis_results[\"SCR\"][\"KNN\"][\"Euc\"][i] = SCR_Euc_control_KNN\n",
    "    sensitivity_analysis_results[\"SCR\"][\"KNN\"][\"Cos\"][i] = SCR_Cos_control_KNN\n",
    "    sensitivity_analysis_results[\"SCR\"][\"KNN\"][\"Manh\"][i] = SCR_Manh_control_KNN\n",
    "    sensitivity_analysis_results[\"LAB\"][\"KNN\"][\"Euc\"][i] = LAB_Euc_control_KNN\n",
    "    sensitivity_analysis_results[\"LAB\"][\"KNN\"][\"Cos\"][i] = LAB_Cos_control_KNN\n",
    "    sensitivity_analysis_results[\"LAB\"][\"KNN\"][\"Manh\"][i] = LAB_Manh_control_KNN\n",
    "    \n",
    "    sensitivity_analysis_results[\"SCR\"][\"LR\"][\"DTW\"][i] = SCR_DTW_control_LR\n",
    "    sensitivity_analysis_results[\"SCR\"][\"LR\"][\"Euc\"][i] = SCR_Euc_control_LR\n",
    "    sensitivity_analysis_results[\"SCR\"][\"LR\"][\"Cos\"][i] = SCR_Cos_control_LR\n",
    "    sensitivity_analysis_results[\"SCR\"][\"LR\"][\"Manh\"][i] = SCR_Manh_control_LR\n",
    "    sensitivity_analysis_results[\"LAB\"][\"LR\"][\"Euc\"][i] = LAB_Euc_control_LR\n",
    "    sensitivity_analysis_results[\"LAB\"][\"LR\"][\"Cos\"][i] = LAB_Cos_control_LR\n",
    "    sensitivity_analysis_results[\"LAB\"][\"LR\"][\"Manh\"][i] = LAB_Manh_control_LR\n",
    "    \n",
    "    print(\"Finish round %s\"%(i))"
   ]
  },
  {
   "cell_type": "code",
   "execution_count": null,
   "id": "238d48ce-46e7-4c24-b57f-db7eed8dda13",
   "metadata": {
    "tags": []
   },
   "outputs": [],
   "source": [
    "# save the resuults\n",
    "with open(\"./Results_dict/Sensitivity_analysis/sensitivity_analysis_results.json\", \"w\") as json_file:\n",
    "    json.dump(sensitivity_analysis_results, json_file, indent=4)"
   ]
  },
  {
   "cell_type": "code",
   "execution_count": null,
   "id": "a379b9e9-0378-4529-98c2-3395ddd95f84",
   "metadata": {
    "tags": []
   },
   "outputs": [],
   "source": [
    "with open(\"./Results_dict/Sensitivity_analysis/sensitivity_analysis_results.json\", \"r\") as json_file:\n",
    "    sensitivity_analysis_results = json.load(json_file)"
   ]
  },
  {
   "cell_type": "markdown",
   "id": "f35bd6b8-019b-4e69-8d0f-b5942e01a3d0",
   "metadata": {},
   "source": [
    "# Plot the Results"
   ]
  },
  {
   "cell_type": "code",
   "execution_count": null,
   "id": "3257f0fd-94c3-4cbe-af8e-483b188bc5d9",
   "metadata": {
    "tags": []
   },
   "outputs": [],
   "source": [
    "from utils.Plotting import plot_smooth_curve, one_tailed_t_test, add_subplot_index, save_figure"
   ]
  },
  {
   "cell_type": "code",
   "execution_count": null,
   "id": "1bbe909c-9018-4c64-b059-9d218cc8fcb7",
   "metadata": {
    "tags": []
   },
   "outputs": [],
   "source": [
    "def plot_sensitivity_analysis(ax, k_sizes: list, parameter_space: list, performance_dict: dict, metric:str, \n",
    "                              title: str, base_model: str):\n",
    "    exp_colors = create_color_map(len(parameter_space))\n",
    "    \n",
    "    for i in range(len(parameter_space)):\n",
    "        if i != (len(parameter_space) - 1):\n",
    "            p_val = one_tailed_t_test(performance_dict[str(len(parameter_space) - 1)]['WT'][metric], \n",
    "                                      performance_dict[str(i)]['WT'][metric])\n",
    "            plot_smooth_curve(ax, k_sizes, performance_dict[str(i)]['WT'][metric], f\"%s ($\\\\mathit{{{p_val}}}$)\"%parameter_space[i], exp_colors[i])\n",
    "        else:\n",
    "            plot_smooth_curve(ax, k_sizes, performance_dict[str(i)]['WT'][metric], parameter_space[i], 'skyblue')\n",
    "            \n",
    "    ax.legend(loc = 'lower right')\n",
    "    ax.set_xlabel(\"k\")\n",
    "    ax.set_ylabel(metric)\n",
    "    ax.set_title(title)"
   ]
  },
  {
   "cell_type": "code",
   "execution_count": null,
   "id": "c53c4d4c-72ab-4966-b43f-a5bb409877b8",
   "metadata": {
    "tags": []
   },
   "outputs": [],
   "source": [
    "def create_color_map(num_colors: int) -> list:\n",
    "    cmap = plt.get_cmap('Reds')\n",
    "    candidate_exp_colors = [cmap((i + 1) / (num_colors - 1)) for i in range(num_colors)]\n",
    "    return candidate_exp_colors"
   ]
  },
  {
   "cell_type": "code",
   "execution_count": null,
   "id": "d4eec064-2d82-4740-b50d-0a60b486686b",
   "metadata": {
    "tags": []
   },
   "outputs": [],
   "source": [
    "sd_SCR_space_ticks = [str(i) for i in sd_SCR_space] + ['w/o OW']\n",
    "top_rates_space_ticks = [str(i) for i in top_rates_space] + ['w/o OW']"
   ]
  },
  {
   "cell_type": "code",
   "execution_count": null,
   "id": "7c65f82b-7427-49f2-a893-4656c2f4c718",
   "metadata": {
    "tags": []
   },
   "outputs": [],
   "source": [
    "fig, axs = plt.subplots(2, 2, figsize=(11, 8)) \n",
    "\n",
    "metric = \"AUPRC\"\n",
    "\n",
    "plot_sensitivity_analysis(axs[0, 0], k_sizes_test, sd_SCR_space_ticks, \n",
    "                          sensitivity_analysis_results[\"SCR\"][\"KNN\"][\"DTW\"], metric, \"SCR-KNN, DTW-AROW: %s\"%(metric),'KNN')\n",
    "plot_sensitivity_analysis(axs[0, 1], k_sizes_test, sd_SCR_space_ticks, \n",
    "                          sensitivity_analysis_results[\"SCR\"][\"KNN\"][\"Euc\"], metric, \"SCR-KNN, Euclidean: %s\"%(metric),'KNN')\n",
    "plot_sensitivity_analysis(axs[1, 0], k_sizes_test, sd_SCR_space_ticks, \n",
    "                          sensitivity_analysis_results[\"SCR\"][\"KNN\"][\"Cos\"], metric, \"SCR-KNN, Cosine: %s\"%(metric),'KNN')\n",
    "plot_sensitivity_analysis(axs[1, 1], k_sizes_test, sd_SCR_space_ticks, \n",
    "                          sensitivity_analysis_results[\"SCR\"][\"KNN\"][\"Manh\"], metric, \"SCR-KNN, Manhattan: %s\"%(metric),'KNN')\n",
    "add_subplot_index(axs, 2, 2)\n",
    "plt.tight_layout()\n",
    "plt.show()\n",
    "save_figure(fig, figure_folder, \"SCR-KNN-AUPRC\")"
   ]
  },
  {
   "cell_type": "code",
   "execution_count": null,
   "id": "4bc36daf-cb5c-4e1d-9d4b-e50ad8a24705",
   "metadata": {
    "tags": []
   },
   "outputs": [],
   "source": [
    "fig, axs = plt.subplots(2, 2, figsize=(11, 8)) \n",
    "\n",
    "metric = \"AUROC\"\n",
    "\n",
    "plot_sensitivity_analysis(axs[0, 0], k_sizes_test, sd_SCR_space_ticks, \n",
    "                          sensitivity_analysis_results[\"SCR\"][\"KNN\"][\"DTW\"], metric, \"SCR-KNN, DTW-AROW: %s\"%(metric),'KNN')\n",
    "plot_sensitivity_analysis(axs[0, 1], k_sizes_test, sd_SCR_space_ticks, \n",
    "                          sensitivity_analysis_results[\"SCR\"][\"KNN\"][\"Euc\"], metric, \"SCR-KNN, Euclidean: %s\"%(metric),'KNN')\n",
    "plot_sensitivity_analysis(axs[1, 0], k_sizes_test, sd_SCR_space_ticks, \n",
    "                          sensitivity_analysis_results[\"SCR\"][\"KNN\"][\"Cos\"], metric, \"SCR-KNN, Cosine: %s\"%(metric),'KNN')\n",
    "plot_sensitivity_analysis(axs[1, 1], k_sizes_test, sd_SCR_space_ticks, \n",
    "                          sensitivity_analysis_results[\"SCR\"][\"KNN\"][\"Manh\"], metric, \"SCR-KNN, Manhattan: %s\"%(metric),'KNN')\n",
    "add_subplot_index(axs, 2, 2)\n",
    "plt.tight_layout()\n",
    "plt.show()\n",
    "save_figure(fig, figure_folder, \"SCR-KNN-AUROC\")"
   ]
  },
  {
   "cell_type": "code",
   "execution_count": null,
   "id": "37d1e306-c3e3-450d-a25c-38a16a8a3162",
   "metadata": {
    "tags": []
   },
   "outputs": [],
   "source": [
    "fig, axs = plt.subplots(1, 3, figsize=(12.5, 3.5)) \n",
    "\n",
    "metric = \"AUPRC\"\n",
    "\n",
    "plot_sensitivity_analysis(axs[0], k_sizes_test, top_rates_space_ticks, \n",
    "                          sensitivity_analysis_results[\"LAB\"][\"KNN\"][\"Euc\"], metric, \"LAB-KNN, Euclidean: %s\"%(metric),'KNN')\n",
    "plot_sensitivity_analysis(axs[1], k_sizes_test, top_rates_space_ticks, \n",
    "                          sensitivity_analysis_results[\"LAB\"][\"KNN\"][\"Cos\"], metric, \"LAB-KNN, Cosine: %s\"%(metric),'KNN')\n",
    "plot_sensitivity_analysis(axs[2], k_sizes_test, top_rates_space_ticks, \n",
    "                          sensitivity_analysis_results[\"LAB\"][\"KNN\"][\"Manh\"], metric, \"LAB-KNN, Manhattan: %s\"%(metric),'KNN')\n",
    "add_subplot_index(axs, 1, 3)\n",
    "plt.tight_layout()\n",
    "plt.show()\n",
    "save_figure(fig, figure_folder, \"LAB-KNN-AUPRC\")"
   ]
  },
  {
   "cell_type": "code",
   "execution_count": null,
   "id": "96f8a8cc-8f6b-418e-b778-0fbc371dbd5b",
   "metadata": {
    "tags": []
   },
   "outputs": [],
   "source": [
    "fig, axs = plt.subplots(1, 3, figsize=(12.5, 3.5)) \n",
    "\n",
    "metric = \"AUROC\"\n",
    "\n",
    "plot_sensitivity_analysis(axs[0], k_sizes_test, top_rates_space_ticks, \n",
    "                          sensitivity_analysis_results[\"LAB\"][\"KNN\"][\"Euc\"], metric, \"LAB-KNN, Euclidean: %s\"%(metric),'KNN')\n",
    "plot_sensitivity_analysis(axs[1], k_sizes_test, top_rates_space_ticks, \n",
    "                          sensitivity_analysis_results[\"LAB\"][\"KNN\"][\"Cos\"], metric, \"LAB-KNN, Cosine: %s\"%(metric),'KNN')\n",
    "plot_sensitivity_analysis(axs[2], k_sizes_test, top_rates_space_ticks, \n",
    "                          sensitivity_analysis_results[\"LAB\"][\"KNN\"][\"Manh\"], metric, \"LAB-KNN, Manhattan: %s\"%(metric),'KNN')\n",
    "add_subplot_index(axs, 1, 3)\n",
    "plt.tight_layout()\n",
    "plt.show()\n",
    "save_figure(fig, figure_folder, \"LAB-KNN-AUROC\")"
   ]
  },
  {
   "cell_type": "code",
   "execution_count": null,
   "id": "abeccca8-d87c-4098-9138-bf356d5189ef",
   "metadata": {
    "tags": []
   },
   "outputs": [],
   "source": [
    "fig, axs = plt.subplots(2, 2, figsize=(11, 8)) \n",
    "\n",
    "metric = \"AUPRC\"\n",
    "\n",
    "plot_sensitivity_analysis(axs[0, 0], k_sizes_test, sd_SCR_space_ticks, \n",
    "                          sensitivity_analysis_results[\"SCR\"][\"LR\"][\"DTW\"], metric, \"SCR-LR, DTW-AROW: %s\"%(metric),'LR')\n",
    "plot_sensitivity_analysis(axs[0, 1], k_sizes_test, sd_SCR_space_ticks, \n",
    "                          sensitivity_analysis_results[\"SCR\"][\"LR\"][\"Euc\"], metric, \"SCR-LR, Euclidean: %s\"%(metric),'LR')\n",
    "plot_sensitivity_analysis(axs[1, 0], k_sizes_test, sd_SCR_space_ticks, \n",
    "                          sensitivity_analysis_results[\"SCR\"][\"LR\"][\"Cos\"], metric, \"SCR-LR, Cosine: %s\"%(metric),'LR')\n",
    "plot_sensitivity_analysis(axs[1, 1], k_sizes_test, sd_SCR_space_ticks, \n",
    "                          sensitivity_analysis_results[\"SCR\"][\"LR\"][\"Manh\"], metric, \"SCR-LR, Manhattan: %s\"%(metric),'LR')\n",
    "add_subplot_index(axs, 2, 2)\n",
    "plt.tight_layout()\n",
    "plt.show()\n",
    "save_figure(fig, figure_folder, \"SCR-LR-AUPRC\")"
   ]
  },
  {
   "cell_type": "code",
   "execution_count": null,
   "id": "b144f67b-46d7-464f-9704-5c00bf59c8e0",
   "metadata": {
    "tags": []
   },
   "outputs": [],
   "source": [
    "fig, axs = plt.subplots(2, 2, figsize=(11, 8)) \n",
    "\n",
    "metric = \"AUROC\"\n",
    "\n",
    "plot_sensitivity_analysis(axs[0, 0], k_sizes_test, sd_SCR_space_ticks, \n",
    "                          sensitivity_analysis_results[\"SCR\"][\"LR\"][\"DTW\"], metric, \"SCR-LR, DTW-AROW: %s\"%(metric),'LR')\n",
    "plot_sensitivity_analysis(axs[0, 1], k_sizes_test, sd_SCR_space_ticks, \n",
    "                          sensitivity_analysis_results[\"SCR\"][\"LR\"][\"Euc\"], metric, \"SCR-LR, Euclidean: %s\"%(metric),'LR')\n",
    "plot_sensitivity_analysis(axs[1, 0], k_sizes_test, sd_SCR_space_ticks, \n",
    "                          sensitivity_analysis_results[\"SCR\"][\"LR\"][\"Cos\"], metric, \"SCR-LR, Cosine: %s\"%(metric),'LR')\n",
    "plot_sensitivity_analysis(axs[1, 1], k_sizes_test, sd_SCR_space_ticks, \n",
    "                          sensitivity_analysis_results[\"SCR\"][\"LR\"][\"Manh\"], metric, \"SCR-LR, Manhattan: %s\"%(metric),'LR')\n",
    "add_subplot_index(axs, 2, 2)\n",
    "plt.tight_layout()\n",
    "plt.show()\n",
    "save_figure(fig, figure_folder, \"SCR-LR-AUROC\")"
   ]
  },
  {
   "cell_type": "code",
   "execution_count": null,
   "id": "a02273dc-cf2c-49a1-a3d1-004c16e68a88",
   "metadata": {
    "tags": []
   },
   "outputs": [],
   "source": [
    "fig, axs = plt.subplots(1, 3, figsize=(12.5, 3.5)) \n",
    "\n",
    "metric = \"AUPRC\"\n",
    "\n",
    "plot_sensitivity_analysis(axs[0], k_sizes_test, top_rates_space_ticks, \n",
    "                          sensitivity_analysis_results[\"LAB\"][\"LR\"][\"Euc\"], metric, \"LAB-LR, Euclidean: %s\"%(metric),'LR')\n",
    "plot_sensitivity_analysis(axs[1], k_sizes_test, top_rates_space_ticks, \n",
    "                          sensitivity_analysis_results[\"LAB\"][\"LR\"][\"Cos\"], metric, \"LAB-LR, Cosine: %s\"%(metric),'LR')\n",
    "plot_sensitivity_analysis(axs[2], k_sizes_test, top_rates_space_ticks, \n",
    "                          sensitivity_analysis_results[\"LAB\"][\"LR\"][\"Manh\"], metric, \"LAB-LR, Manhattan: %s\"%(metric),'LR')\n",
    "add_subplot_index(axs, 1, 3)\n",
    "plt.tight_layout()\n",
    "plt.show()\n",
    "save_figure(fig, figure_folder, \"LAB-LR-AUPRC\")"
   ]
  },
  {
   "cell_type": "code",
   "execution_count": null,
   "id": "97574d52-faeb-4383-8560-d952194118e9",
   "metadata": {
    "tags": []
   },
   "outputs": [],
   "source": [
    "fig, axs = plt.subplots(1, 3, figsize=(12.5, 3.5)) \n",
    "\n",
    "metric = \"AUROC\"\n",
    "\n",
    "plot_sensitivity_analysis(axs[0], k_sizes_test, top_rates_space_ticks, \n",
    "                          sensitivity_analysis_results[\"LAB\"][\"LR\"][\"Euc\"], metric, \"LAB-LR, Euclidean: %s\"%(metric),'LR')\n",
    "plot_sensitivity_analysis(axs[1], k_sizes_test, top_rates_space_ticks, \n",
    "                          sensitivity_analysis_results[\"LAB\"][\"LR\"][\"Cos\"], metric, \"LAB-LR, Cosine: %s\"%(metric),'LR')\n",
    "plot_sensitivity_analysis(axs[2], k_sizes_test, top_rates_space_ticks, \n",
    "                          sensitivity_analysis_results[\"LAB\"][\"LR\"][\"Manh\"], metric, \"LAB-LR, Manhattan: %s\"%(metric),'LR')\n",
    "add_subplot_index(axs, 1, 3)\n",
    "plt.tight_layout()\n",
    "plt.show()\n",
    "save_figure(fig, figure_folder, \"LAB-LR-AUROC\")"
   ]
  },
  {
   "cell_type": "markdown",
   "id": "54373540-b1d0-4cfe-b19b-97d5ce9b0cff",
   "metadata": {},
   "source": [
    "# Main Text Combined Plot"
   ]
  },
  {
   "cell_type": "code",
   "execution_count": null,
   "id": "36fa34a0-3916-4c52-88f2-2a917eea30ec",
   "metadata": {
    "tags": []
   },
   "outputs": [],
   "source": [
    "from matplotlib.gridspec import GridSpec\n",
    "\n",
    "# Create the figure and gridspec\n",
    "fig = plt.figure(figsize=(12, 11.5))\n",
    "gs = GridSpec(11, 6, figure=fig) \n",
    "\n",
    "# Define the metric\n",
    "metric = \"AUPRC\"\n",
    "\n",
    "# Plot the 2x2 grid (SCR-LR plots)\n",
    "axs_2x2 = [fig.add_subplot(gs[0:4, 0:3]),  # Top-left\n",
    "           fig.add_subplot(gs[0:4, 3:6]),  # Top-right\n",
    "           fig.add_subplot(gs[4:8, 0:3]),    # Bottom-left\n",
    "           fig.add_subplot(gs[4:8, 3:6])]    # Bottom-right\n",
    "\n",
    "plot_sensitivity_analysis(axs_2x2[0], k_sizes_test, sd_SCR_space_ticks, \n",
    "                          sensitivity_analysis_results[\"SCR\"][\"LR\"][\"DTW\"], metric, \"SCR-LR, DTW-AROW: %s\"%(metric), 'LR')\n",
    "plot_sensitivity_analysis(axs_2x2[1], k_sizes_test, sd_SCR_space_ticks, \n",
    "                          sensitivity_analysis_results[\"SCR\"][\"LR\"][\"Euc\"], metric, \"SCR-LR, Euclidean: %s\"%(metric), 'LR')\n",
    "plot_sensitivity_analysis(axs_2x2[2], k_sizes_test, sd_SCR_space_ticks, \n",
    "                          sensitivity_analysis_results[\"SCR\"][\"LR\"][\"Cos\"], metric, \"SCR-LR, Cosine: %s\"%(metric), 'LR')\n",
    "plot_sensitivity_analysis(axs_2x2[3], k_sizes_test, sd_SCR_space_ticks, \n",
    "                          sensitivity_analysis_results[\"SCR\"][\"LR\"][\"Manh\"], metric, \"SCR-LR, Manhattan: %s\"%(metric), 'LR')\n",
    "\n",
    "# Plot the 1x3 grid (LAB-LR plots)\n",
    "axs_1x3 = [fig.add_subplot(gs[8:11, 0:2]),   # Bottom-left\n",
    "           fig.add_subplot(gs[8:11, 2:4]),   # Bottom-center\n",
    "           fig.add_subplot(gs[8:11, 4:6])]   # Bottom-right\n",
    "\n",
    "plot_sensitivity_analysis(axs_1x3[0], k_sizes_test, top_rates_space_ticks, \n",
    "                          sensitivity_analysis_results[\"LAB\"][\"LR\"][\"Euc\"], metric, \"LAB-LR, Euclidean: %s\"%(metric), 'LR')\n",
    "plot_sensitivity_analysis(axs_1x3[1], k_sizes_test, top_rates_space_ticks, \n",
    "                          sensitivity_analysis_results[\"LAB\"][\"LR\"][\"Cos\"], metric, \"LAB-LR, Cosine: %s\"%(metric), 'LR')\n",
    "plot_sensitivity_analysis(axs_1x3[2], k_sizes_test, top_rates_space_ticks, \n",
    "                          sensitivity_analysis_results[\"LAB\"][\"LR\"][\"Manh\"], metric, \"LAB-LR, Manhattan: %s\"%(metric), 'LR')\n",
    "\n",
    "# Add subplot indices ('a', 'b', ..., 'g')\n",
    "subplots = axs_2x2 + axs_1x3  # Combine all subplot axes\n",
    "labels = ['a', 'b', 'c', 'd', 'e', 'f', 'g']\n",
    "\n",
    "for ax, label in zip(subplots, labels):\n",
    "    # Add text label at the top-left corner of each subplot\n",
    "    ax.text(-0.1, 1.1, label, transform=ax.transAxes, fontsize=14, \n",
    "            fontweight='bold', va='top', ha='right')\n",
    "\n",
    "\n",
    "# Adjust layout and save the combined figure\n",
    "plt.tight_layout()\n",
    "plt.show()\n",
    "save_figure(fig, figure_folder, \"Combined-Figure-LR-AUPRC\")"
   ]
  }
 ],
 "metadata": {
  "kernelspec": {
   "display_name": "AKI_personalized_modeling",
   "language": "python",
   "name": "aki_personalized_modeling"
  },
  "language_info": {
   "codemirror_mode": {
    "name": "ipython",
    "version": 3
   },
   "file_extension": ".py",
   "mimetype": "text/x-python",
   "name": "python",
   "nbconvert_exporter": "python",
   "pygments_lexer": "ipython3",
   "version": "3.12.5"
  }
 },
 "nbformat": 4,
 "nbformat_minor": 5
}
