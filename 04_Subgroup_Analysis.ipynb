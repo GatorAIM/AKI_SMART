{
 "cells": [
  {
   "cell_type": "code",
   "execution_count": null,
   "metadata": {
    "tags": []
   },
   "outputs": [],
   "source": [
    "import pandas as pd\n",
    "import numpy as np\n",
    "import matplotlib.pyplot as plt\n",
    "from tqdm import tqdm\n",
    "import json\n",
    "# Enable tqdm for pandas\n",
    "tqdm.pandas()\n",
    "pd.set_option('display.max_columns', None)"
   ]
  },
  {
   "cell_type": "code",
   "execution_count": null,
   "metadata": {},
   "outputs": [],
   "source": [
    "figure_folder = \"Main_results\""
   ]
  },
  {
   "cell_type": "code",
   "execution_count": null,
   "metadata": {
    "tags": []
   },
   "outputs": [],
   "source": [
    "# Load the variables\n",
    "with open('./utils/variables.json', 'r') as file:\n",
    "    variables = json.load(file)\n",
    "train_len = variables['train_len']\n",
    "test_len = variables['test_len']\n",
    "SCR_feature_space = variables['SCR_feature_space']\n",
    "LAB_feature_space = variables['LAB_feature_space']"
   ]
  },
  {
   "cell_type": "code",
   "execution_count": null,
   "metadata": {
    "tags": []
   },
   "outputs": [],
   "source": [
    "# read onset dadaset\n",
    "dataset = pd.read_csv(\".../DEMO_KUMC.csv\")\n",
    "# we only need the test set\n",
    "dataset = dataset.iloc[train_len:, :].copy(deep = True)"
   ]
  },
  {
   "cell_type": "code",
   "execution_count": null,
   "metadata": {
    "tags": []
   },
   "outputs": [],
   "source": [
    "# format the data type\n",
    "dataset[['PATID', 'ONSETS_ENCOUNTERID']] = dataset[['PATID', 'ONSETS_ENCOUNTERID']].astype(str)\n",
    "time_cols = [\"ADMIT_DATE\", \"DISCHARGE_DATE\", \"PREDICTION_POINT\"]\n",
    "\n",
    "# Loop through the columns and convert to datetime\n",
    "for col in time_cols:\n",
    "    dataset[col] = pd.to_datetime(dataset[col])"
   ]
  },
  {
   "cell_type": "markdown",
   "metadata": {},
   "source": [
    "Potential Subgroups (defined on demographics/comorbidities):  \n",
    "1. Black,   \n",
    "2. 70 years older,   \n",
    "3. CKD 2, CKD 3,   \n",
    "4. Diabete Mellitus,   \n",
    "5. Chronic Liver Disease,   \n",
    "6. Circulatory System Disease,   \n",
    "7. Hypertensive Diseases,\n",
    "8. Ischemic Heart Disease,   \n",
    "9. Congestive Heart Failure,   \n",
    "10. Stroke,   \n",
    "11. Peripheral Vascular Disease.\n",
    "12. Cancer\n",
    "13. Metabolic diseases"
   ]
  },
  {
   "cell_type": "code",
   "execution_count": null,
   "metadata": {
    "tags": []
   },
   "outputs": [],
   "source": [
    "DX_codes = {\n",
    "    'CHRONIC_KIDNEY_DISEASES': {'9': ['585.1', '585.2', '585.3', '585.4', '585.5'], \n",
    "                                       '10':['N18.1', 'N18.2', 'N18.3', 'N18.30', 'N18.31', 'N18.32', 'N18.4', 'N18.5']},\n",
    "    'DIABETES_MELLITUS':{'9':['250'], '10': ['E08.9', 'E11.9']},\n",
    "    'CHRONIC_LIVER_DISEASES':{'9':['571', '571.1', '571.2', '571.3', '571.4', '571.5', '571.6', '571.8', '571.9', '571.40',\n",
    "                                 '571.41', '571.42', '571.49'], \n",
    "                             '10': ['K70', 'K71', 'K72', 'K73', 'K74', 'K75',\n",
    "                                    'K76', 'K77', 'K70.0', 'K70.1', 'K70.10', 'K70.11',\n",
    "                                   'K70.2', 'K70.3', 'K70.30', 'K70.31', 'K70.4', 'K70.40', 'K70.41', 'K70.9',\n",
    "                                   'K71.0', 'K71.1', 'K71.10', 'K71.11', 'K71.2', 'K71.3', 'K71.4', 'K71.5', 'K71.6', 'K71.7',\n",
    "                                   'K71.8', 'K71.9', 'K72.0', 'K72.1', 'K72.9', 'K72.00', 'K72.01', 'K72.10', 'K72.11',\n",
    "                                   'K72.90', 'K72.91', 'K73.0', 'K73.1', 'K73.2', 'K73.8', 'K73.9', 'K74.0', 'K74.0', 'K74.1',\n",
    "                                    'K74.2', 'K74.3', 'K74.4', 'K74.5', 'K74.6', 'K75.0', 'K75.1', 'K75.2', 'K75.3', 'K75.4',\n",
    "                                   'K75.8', 'K75.9', 'K76.0', 'K76.1', 'K76.2', 'K76.3', 'K76.4', 'K76.5', 'K76.6', 'K76.7', 'K76.8', 'K76.9']},\n",
    "    'CIRCULATORY_SYSTEM_DISEASES': {'9':['413.9', '410.11', '410.91', '414.01', '414.00', '412',\n",
    "                                       '414.4', '414.9'], \n",
    "                                   '10': ['I20.9', 'I21.09', 'I21.3', 'I25.10', 'I25.2', 'I25.84', 'I25.9']},\n",
    "    'HYPERTENSIVE_DISEASES':{'9':['401.0', '401.1', '401.9', '402.00', '402.01', '402.10', '402.11', '402.90', '402.91'], \n",
    "                            '10': ['I10', 'I11.0', 'I11.9']},\n",
    "    'ISCHEMIC_HEART_DISEASES':{'9':['410.00', '410.10', '412', '413.9', '414.00', '414.01'], \n",
    "                              '10': ['I21.09', 'I25.2', 'I20.9', 'I25.10']},\n",
    "    'CONGESTIVE_HEART_FAILURE':{'9':['428'], '10': ['I50.22']},\n",
    "    'STROKE':{'9':['434.91'], '10': ['I63.9']},\n",
    "    'PERIPHERAL_VASCULAR_DISEASES':{'9':['433.9'], '10': ['I73.9']},\n",
    "    'METABOLIC_DISEASES': {'9': ['268.9', '272.0', '272.1', '272.2', '272.4', '277.7'], \n",
    "                            '10': ['E55.9', 'E78.0', 'E78.1', 'E78.2', 'E78.5', 'E88.81']},\n",
    "    'CANCERS': {'9': [str(code) for code in range(140, 240)], '10': ['C%s'%(code) for code in range(0, 97)] + ['D%s'%(code) for code in range(0, 50)]}\n",
    "}"
   ]
  },
  {
   "cell_type": "code",
   "execution_count": null,
   "metadata": {
    "tags": []
   },
   "outputs": [],
   "source": [
    "DX_codes_combined = dict()\n",
    "for name, codes in DX_codes.items():\n",
    "    DX_codes_combined[name] = codes[\"9\"] + codes[\"10\"]"
   ]
  },
  {
   "cell_type": "code",
   "execution_count": null,
   "metadata": {
    "tags": []
   },
   "outputs": [],
   "source": [
    "with open('./utils/DX_codes_combined.json', 'w') as json_file:\n",
    "    json.dump(DX_codes_combined, json_file, indent=4)"
   ]
  },
  {
   "cell_type": "markdown",
   "metadata": {},
   "source": [
    "# Read Comorbidities"
   ]
  },
  {
   "cell_type": "code",
   "execution_count": null,
   "metadata": {
    "tags": []
   },
   "outputs": [],
   "source": [
    "DX_cols = ['PATID', 'DX', 'DX_DATE\"+PD.DATE_SHIFT\"']\n",
    "DX_df = pd.read_csv('/blue/yonghui.wu/hoyinchan/Data/data2022raw/KUMC_ORCALE/raw/AKI_DX.csv', \n",
    "                    usecols = DX_cols)"
   ]
  },
  {
   "cell_type": "code",
   "execution_count": null,
   "metadata": {
    "tags": []
   },
   "outputs": [],
   "source": [
    "# format the dataframe\n",
    "DX_df.columns = ['PATID', 'DX_DATE', 'DX']\n",
    "DX_df[['PATID', 'DX']] = DX_df[['PATID', 'DX']].astype(str)\n",
    "DX_df['DX_DATE'] = pd.to_datetime(DX_df['DX_DATE'], format = '%d-%b-%y').dt.date\n",
    "DX_df.dropna(inplace = True)"
   ]
  },
  {
   "cell_type": "code",
   "execution_count": null,
   "metadata": {
    "tags": []
   },
   "outputs": [],
   "source": [
    "# merge the onset_df with the filtered_DX_df\n",
    "dataset_DX_df = dataset.merge(DX_df, on='PATID', how='left')\n",
    "# filter by admission date\n",
    "dataset_DX_df = dataset_DX_df[dataset_DX_df['DX_DATE'] < dataset_DX_df['ADMIT_DATE']]"
   ]
  },
  {
   "cell_type": "code",
   "execution_count": null,
   "metadata": {
    "tags": []
   },
   "outputs": [],
   "source": [
    "def map_to_disease(DX):\n",
    "    # DX_codes here is a global variable\n",
    "    for disease, codes in DX_codes_combined.items():\n",
    "        if any(DX.startswith(code) for code in codes):\n",
    "            return disease\n",
    "    return None"
   ]
  },
  {
   "cell_type": "code",
   "execution_count": null,
   "metadata": {
    "tags": []
   },
   "outputs": [],
   "source": [
    "# map the DX to disease\n",
    "dataset_DX_df.loc[:, 'DX_NAME'] = dataset_DX_df['DX'].progress_apply(map_to_disease)\n",
    "# delete the rows that cannot be mapped to any disease\n",
    "dataset_DX_df = dataset_DX_df.dropna(subset=['DX_NAME']).reset_index(drop=True)\n",
    "dataset_DX_df.drop('DX', axis=1, inplace=True)"
   ]
  },
  {
   "cell_type": "code",
   "execution_count": null,
   "metadata": {
    "tags": []
   },
   "outputs": [],
   "source": [
    "# pivot onset_DX_df to get the diagnosis feature, values as binary, index as pat_id_cols and columns as DX\n",
    "DX_feature_pivot = dataset_DX_df.pivot_table(index=[\"PATID\", \"ONSETS_ENCOUNTERID\"], \n",
    "                                             columns='DX_NAME', aggfunc='size', fill_value=0)\n",
    "# Convert the pivot table to binary (1 if the patient had the diagnose, 0 otherwise)\n",
    "DX_feature_pivot = (DX_feature_pivot > 0).astype(int)\n",
    "# Reset the index to make it a regular dataframe\n",
    "DX_feature_pivot.reset_index(inplace=True)"
   ]
  },
  {
   "cell_type": "code",
   "execution_count": null,
   "metadata": {
    "tags": []
   },
   "outputs": [],
   "source": [
    "from utils.Z_Helping_Functions import merge_and_filter"
   ]
  },
  {
   "cell_type": "code",
   "execution_count": null,
   "metadata": {
    "tags": []
   },
   "outputs": [],
   "source": [
    "# merge med and filter out the columns that have less than 1% 1 values\n",
    "dataset = merge_and_filter(dataset, DX_feature_pivot, 0.02)"
   ]
  },
  {
   "cell_type": "markdown",
   "metadata": {},
   "source": [
    "# Read Demographics"
   ]
  },
  {
   "cell_type": "code",
   "execution_count": null,
   "metadata": {
    "tags": []
   },
   "outputs": [],
   "source": [
    "DEMO_df = pd.read_csv(\"/blue/yonghui.wu/hoyinchan/Data/data2022raw/KUMC_ORCALE/raw/AKI_DEMO.csv\", \n",
    "                      delimiter = ',', usecols = ['ONSETS_ENCOUNTERID', 'AGE', 'PATID', 'SEX', 'RACE'])"
   ]
  },
  {
   "cell_type": "code",
   "execution_count": null,
   "metadata": {
    "tags": []
   },
   "outputs": [],
   "source": [
    "# format the df\n",
    "DEMO_df[['PATID', 'ONSETS_ENCOUNTERID', 'SEX', 'RACE']] = \\\n",
    "DEMO_df[['PATID', 'ONSETS_ENCOUNTERID', 'SEX', 'RACE']].astype(str)"
   ]
  },
  {
   "cell_type": "code",
   "execution_count": null,
   "metadata": {
    "tags": []
   },
   "outputs": [],
   "source": [
    "DEMO_df = DEMO_df.drop_duplicates(subset=[\"PATID\", \"ONSETS_ENCOUNTERID\"]).reset_index(drop=True)"
   ]
  },
  {
   "cell_type": "code",
   "execution_count": null,
   "metadata": {
    "tags": []
   },
   "outputs": [],
   "source": [
    "dataset = dataset.merge(DEMO_df, on = ['PATID', 'ONSETS_ENCOUNTERID'], how = \"left\")"
   ]
  },
  {
   "cell_type": "code",
   "execution_count": null,
   "metadata": {
    "tags": []
   },
   "outputs": [],
   "source": [
    "assert dataset.SEX.isna().mean() == 0\n",
    "assert dataset.AGE.isna().mean() == 0\n",
    "assert dataset.RACE.isna().mean() == 0"
   ]
  },
  {
   "cell_type": "code",
   "execution_count": null,
   "metadata": {
    "tags": []
   },
   "outputs": [],
   "source": [
    "# Create the \"> 70\" column: 1 if AGE > 70, else 0\n",
    "dataset[\"Age ≥ 70\"] = (dataset[\"AGE\"] >= 70).astype(int)\n",
    "\n",
    "# Create the \"MALE\" column: 1 if SEX == \"M\", else 0\n",
    "dataset[\"MALE\"] = (dataset[\"SEX\"] == \"M\").astype(int)\n",
    "\n",
    "# Create the \"BLACK\" column: 1 if RACE == \"03\", else 0\n",
    "dataset[\"BLACK\"] = (dataset[\"RACE\"] == \"03\").astype(int)"
   ]
  },
  {
   "cell_type": "markdown",
   "metadata": {},
   "source": [
    "# Read Model Predictions"
   ]
  },
  {
   "cell_type": "code",
   "execution_count": null,
   "metadata": {
    "tags": []
   },
   "outputs": [],
   "source": [
    "from sklearn.metrics import roc_auc_score, average_precision_score"
   ]
  },
  {
   "cell_type": "code",
   "execution_count": null,
   "metadata": {},
   "outputs": [],
   "source": [
    "pred_prob_KNN = pd.read_csv(\"...subgroup_pred_probs_KNN.csv\")\n",
    "pred_prob_LR = pd.read_csv(\"...subgroup_pred_probs_LR.csv\")"
   ]
  },
  {
   "cell_type": "code",
   "execution_count": null,
   "metadata": {
    "tags": []
   },
   "outputs": [],
   "source": [
    "# sanity check\n",
    "assert len(dataset) == len(pred_prob_KNN)\n",
    "assert len(dataset) == len(pred_prob_LR)"
   ]
  },
  {
   "cell_type": "code",
   "execution_count": null,
   "metadata": {
    "tags": []
   },
   "outputs": [],
   "source": [
    "cols_to_keep = [\"AKI_LABEL\"] + [\"CANCERS\", \"METABOLIC_DISEASES\", \"CHRONIC_LIVER_DISEASES\", \"CIRCULATORY_SYSTEM_DISEASES\", \n",
    "                                \"CHRONIC_KIDNEY_DISEASES\", \"CONGESTIVE_HEART_FAILURE\", \"DIABETES_MELLITUS\", \"HYPERTENSIVE_DISEASES\", \n",
    "                                \"Age ≥ 70\", \"MALE\", \"BLACK\"]"
   ]
  },
  {
   "cell_type": "code",
   "execution_count": null,
   "metadata": {
    "tags": []
   },
   "outputs": [],
   "source": [
    "dataset_filtered = dataset.loc[:, cols_to_keep].copy(deep = True)"
   ]
  },
  {
   "cell_type": "code",
   "execution_count": null,
   "metadata": {
    "tags": []
   },
   "outputs": [],
   "source": [
    "dataset_full = pd.concat([dataset_filtered, pred_prob_KNN, pred_prob_LR], axis = 1)"
   ]
  },
  {
   "cell_type": "code",
   "execution_count": null,
   "metadata": {
    "tags": []
   },
   "outputs": [],
   "source": [
    "subgroup_KNN_performance = dict()\n",
    "for subgroup_name in dataset_filtered.columns[1:]:\n",
    "    subgroup_KNN_performance[subgroup_name] = dict()\n",
    "    subgroupp = dataset_full[dataset_full[subgroup_name] == 1]\n",
    "    subgroup_y_test = subgroupp['AKI_LABEL']\n",
    "    # we also want to record the percentage of each sub-group\n",
    "    subgroup_KNN_performance[subgroup_name][\"Group Percentage\"] = len(subgroupp) / len(dataset_full)\n",
    "    for model_name in pred_prob_KNN.columns:\n",
    "        model_y_pred_probas = subgroupp[model_name]\n",
    "        AUPRC = average_precision_score(subgroup_y_test, model_y_pred_probas)\n",
    "        AUROC = roc_auc_score(subgroup_y_test, model_y_pred_probas)\n",
    "        subgroup_KNN_performance[subgroup_name][model_name] = {\"AUPRC\": AUPRC, \"AUROC\": AUROC}"
   ]
  },
  {
   "cell_type": "code",
   "execution_count": null,
   "metadata": {
    "tags": []
   },
   "outputs": [],
   "source": [
    "subgroup_LR_performance = dict()\n",
    "for subgroup_name in dataset_filtered.columns[1:]:\n",
    "    subgroup_LR_performance[subgroup_name] = dict()\n",
    "    subgroupp = dataset_full[dataset_full[subgroup_name] == 1]\n",
    "    # we also want to record the percentage of each sub-group\n",
    "    subgroup_LR_performance[subgroup_name][\"Group Percentage\"] = len(subgroupp) / len(dataset_full)\n",
    "    subgroup_y_test = subgroupp['AKI_LABEL']\n",
    "    for model_name in pred_prob_LR.columns:\n",
    "        model_y_pred_probas = subgroupp[model_name]\n",
    "        AUPRC = average_precision_score(subgroup_y_test, model_y_pred_probas)\n",
    "        AUROC = roc_auc_score(subgroup_y_test, model_y_pred_probas)\n",
    "        subgroup_LR_performance[subgroup_name][model_name] = {\"AUPRC\": AUPRC, \"AUROC\": AUROC}"
   ]
  },
  {
   "cell_type": "code",
   "execution_count": null,
   "metadata": {},
   "outputs": [],
   "source": [
    "def plot_radar(ax, performance_dict: dict, model_names: list, metric: str) -> None:\n",
    "    diagnoses = list(performance_dict.keys())\n",
    "    N = len(diagnoses)\n",
    "    angles = np.linspace(0, 2 * np.pi, N, endpoint=False).tolist()\n",
    "    angles += angles[:1]\n",
    "    \n",
    "    # set the y range so that the lines can be separate\n",
    "    all_values = [performance_dict[diag][model][metric] for diag in diagnoses for model in model_names]\n",
    "    min_value = min(all_values) - 0.01\n",
    "    min_value = max(0, min_value)\n",
    "    max_value = max(all_values) + 0.01\n",
    "    \n",
    "    ax.set_ylim(min_value, max_value)\n",
    "    \n",
    "    colors = [\"red\", \"cyan\", \"pink\", \"purple\"]\n",
    "    \n",
    "    for i, model in enumerate(reversed(model_names)):\n",
    "        values = [performance_dict[diag][model][metric] for diag in diagnoses]\n",
    "        values += values[:1]\n",
    "        ax.plot(angles, values, label=model, color = colors[i], marker = '.', markersize = 8)\n",
    "\n",
    "    ax.set_xticks(angles[:-1])\n",
    "    x_labels = [format_diagnose_name(diag) + \" ({:.0f}%)\".format(performance_dict[diag][\"Group Percentage\"] * 100) \\\n",
    "                for diag in diagnoses]\n",
    "    ax.set_xticklabels(x_labels, fontsize=10, rotation=45)\n",
    "    ax.tick_params(axis='x', pad=8)\n",
    "    ax.tick_params(axis='y', labelsize=6)\n",
    "    ax.legend(loc='lower left', bbox_to_anchor=(-0.4, -0.25), prop={'size': 7})"
   ]
  },
  {
   "cell_type": "code",
   "execution_count": null,
   "metadata": {
    "tags": []
   },
   "outputs": [],
   "source": [
    "def format_diagnose_name(text: str) -> str:\n",
    "    words = text.lower().split('_')\n",
    "    words = [word.capitalize() for word in words]\n",
    "    return ' '.join(words)"
   ]
  },
  {
   "cell_type": "code",
   "execution_count": null,
   "metadata": {},
   "outputs": [],
   "source": [
    "from utils.Plotting import add_subplot_index, save_figure"
   ]
  },
  {
   "cell_type": "code",
   "execution_count": null,
   "metadata": {
    "tags": []
   },
   "outputs": [],
   "source": [
    "fig, axes = plt.subplots(2, 2, figsize=(12, 10), subplot_kw=dict(polar=True))\n",
    "\n",
    "plot_radar(axes[0, 0], subgroup_KNN_performance, pred_prob_KNN.columns, 'AUPRC')\n",
    "axes[0, 0].set_title(\"KNN: AUPRC\", size=12, pad=15)\n",
    "\n",
    "plot_radar(axes[0, 1], subgroup_KNN_performance, pred_prob_KNN.columns, 'AUROC')\n",
    "axes[0, 1].set_title(\"KNN: AUROC\", size=12, pad=15)\n",
    "\n",
    "plot_radar(axes[1, 0], subgroup_LR_performance, pred_prob_LR.columns, 'AUPRC')\n",
    "axes[1, 0].set_title(\"Personalized LR: AUPRC\", size=12, pad=15)\n",
    "\n",
    "plot_radar(axes[1, 1], subgroup_LR_performance, pred_prob_LR.columns, 'AUROC')\n",
    "axes[1, 1].set_title(\"Personalized LR: AUROC\", size=12, pad=15)\n",
    "\n",
    "add_subplot_index(axes, 2, 2)\n",
    "plt.tight_layout()\n",
    "plt.show()\n",
    "save_figure(fig, figure_folder, \"Subgroup-performance\")"
   ]
  }
 ],
 "metadata": {
  "kernelspec": {
   "display_name": "Python 3 (ipykernel)",
   "language": "python",
   "name": "python3"
  },
  "language_info": {
   "codemirror_mode": {
    "name": "ipython",
    "version": 3
   },
   "file_extension": ".py",
   "mimetype": "text/x-python",
   "name": "python",
   "nbconvert_exporter": "python",
   "pygments_lexer": "ipython3",
   "version": "3.10.12"
  }
 },
 "nbformat": 4,
 "nbformat_minor": 4
}
